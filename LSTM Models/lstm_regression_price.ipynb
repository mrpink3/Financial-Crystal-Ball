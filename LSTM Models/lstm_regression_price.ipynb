{
 "cells": [
  {
   "cell_type": "code",
   "execution_count": 1,
   "id": "322377a5",
   "metadata": {},
   "outputs": [],
   "source": [
    "import torch \n",
    "import numpy as np\n",
    "import pandas as pd \n",
    "from math import ceil\n",
    "import matplotlib.pyplot as plt\n",
    "from tqdm import tqdm\n",
    "\n",
    "import torch.nn as nn\n",
    "from torch.autograd import Variable"
   ]
  },
  {
   "cell_type": "code",
   "execution_count": 2,
   "id": "bb21ffe8",
   "metadata": {},
   "outputs": [
    {
     "data": {
      "text/html": [
       "<div>\n",
       "<style scoped>\n",
       "    .dataframe tbody tr th:only-of-type {\n",
       "        vertical-align: middle;\n",
       "    }\n",
       "\n",
       "    .dataframe tbody tr th {\n",
       "        vertical-align: top;\n",
       "    }\n",
       "\n",
       "    .dataframe thead th {\n",
       "        text-align: right;\n",
       "    }\n",
       "</style>\n",
       "<table border=\"1\" class=\"dataframe\">\n",
       "  <thead>\n",
       "    <tr style=\"text-align: right;\">\n",
       "      <th></th>\n",
       "      <th>Date</th>\n",
       "      <th>Close</th>\n",
       "      <th>Open</th>\n",
       "      <th>Volume</th>\n",
       "      <th>direction</th>\n",
       "      <th>negative</th>\n",
       "      <th>neutral</th>\n",
       "      <th>positive</th>\n",
       "    </tr>\n",
       "  </thead>\n",
       "  <tbody>\n",
       "    <tr>\n",
       "      <th>0</th>\n",
       "      <td>2004-01-02</td>\n",
       "      <td>0.319776</td>\n",
       "      <td>0.323833</td>\n",
       "      <td>144642400</td>\n",
       "      <td>-1</td>\n",
       "      <td>0</td>\n",
       "      <td>1</td>\n",
       "      <td>0</td>\n",
       "    </tr>\n",
       "    <tr>\n",
       "      <th>1</th>\n",
       "      <td>2004-01-05</td>\n",
       "      <td>0.333151</td>\n",
       "      <td>0.321880</td>\n",
       "      <td>395018400</td>\n",
       "      <td>1</td>\n",
       "      <td>1</td>\n",
       "      <td>0</td>\n",
       "      <td>0</td>\n",
       "    </tr>\n",
       "    <tr>\n",
       "      <th>2</th>\n",
       "      <td>2004-01-06</td>\n",
       "      <td>0.331948</td>\n",
       "      <td>0.334352</td>\n",
       "      <td>509348000</td>\n",
       "      <td>-1</td>\n",
       "      <td>1</td>\n",
       "      <td>0</td>\n",
       "      <td>0</td>\n",
       "    </tr>\n",
       "    <tr>\n",
       "      <th>3</th>\n",
       "      <td>2004-01-07</td>\n",
       "      <td>0.339462</td>\n",
       "      <td>0.332099</td>\n",
       "      <td>586874400</td>\n",
       "      <td>1</td>\n",
       "      <td>1</td>\n",
       "      <td>0</td>\n",
       "      <td>0</td>\n",
       "    </tr>\n",
       "    <tr>\n",
       "      <th>4</th>\n",
       "      <td>2004-01-08</td>\n",
       "      <td>0.351033</td>\n",
       "      <td>0.343219</td>\n",
       "      <td>460303200</td>\n",
       "      <td>1</td>\n",
       "      <td>1</td>\n",
       "      <td>0</td>\n",
       "      <td>0</td>\n",
       "    </tr>\n",
       "    <tr>\n",
       "      <th>...</th>\n",
       "      <td>...</td>\n",
       "      <td>...</td>\n",
       "      <td>...</td>\n",
       "      <td>...</td>\n",
       "      <td>...</td>\n",
       "      <td>...</td>\n",
       "      <td>...</td>\n",
       "      <td>...</td>\n",
       "    </tr>\n",
       "    <tr>\n",
       "      <th>5278</th>\n",
       "      <td>2024-12-23</td>\n",
       "      <td>254.655716</td>\n",
       "      <td>254.156919</td>\n",
       "      <td>40858800</td>\n",
       "      <td>1</td>\n",
       "      <td>1</td>\n",
       "      <td>0</td>\n",
       "      <td>0</td>\n",
       "    </tr>\n",
       "    <tr>\n",
       "      <th>5279</th>\n",
       "      <td>2024-12-24</td>\n",
       "      <td>257.578674</td>\n",
       "      <td>254.875189</td>\n",
       "      <td>23234700</td>\n",
       "      <td>1</td>\n",
       "      <td>1</td>\n",
       "      <td>0</td>\n",
       "      <td>0</td>\n",
       "    </tr>\n",
       "    <tr>\n",
       "      <th>5280</th>\n",
       "      <td>2024-12-26</td>\n",
       "      <td>258.396667</td>\n",
       "      <td>257.568678</td>\n",
       "      <td>27237100</td>\n",
       "      <td>1</td>\n",
       "      <td>1</td>\n",
       "      <td>0</td>\n",
       "      <td>0</td>\n",
       "    </tr>\n",
       "    <tr>\n",
       "      <th>5281</th>\n",
       "      <td>2024-12-27</td>\n",
       "      <td>254.974930</td>\n",
       "      <td>257.209530</td>\n",
       "      <td>42355300</td>\n",
       "      <td>-1</td>\n",
       "      <td>0</td>\n",
       "      <td>0</td>\n",
       "      <td>1</td>\n",
       "    </tr>\n",
       "    <tr>\n",
       "      <th>5282</th>\n",
       "      <td>2024-12-30</td>\n",
       "      <td>251.593094</td>\n",
       "      <td>251.623020</td>\n",
       "      <td>35557500</td>\n",
       "      <td>-1</td>\n",
       "      <td>1</td>\n",
       "      <td>0</td>\n",
       "      <td>0</td>\n",
       "    </tr>\n",
       "  </tbody>\n",
       "</table>\n",
       "<p>5283 rows × 8 columns</p>\n",
       "</div>"
      ],
      "text/plain": [
       "            Date       Close        Open     Volume  direction  negative  \\\n",
       "0     2004-01-02    0.319776    0.323833  144642400         -1         0   \n",
       "1     2004-01-05    0.333151    0.321880  395018400          1         1   \n",
       "2     2004-01-06    0.331948    0.334352  509348000         -1         1   \n",
       "3     2004-01-07    0.339462    0.332099  586874400          1         1   \n",
       "4     2004-01-08    0.351033    0.343219  460303200          1         1   \n",
       "...          ...         ...         ...        ...        ...       ...   \n",
       "5278  2024-12-23  254.655716  254.156919   40858800          1         1   \n",
       "5279  2024-12-24  257.578674  254.875189   23234700          1         1   \n",
       "5280  2024-12-26  258.396667  257.568678   27237100          1         1   \n",
       "5281  2024-12-27  254.974930  257.209530   42355300         -1         0   \n",
       "5282  2024-12-30  251.593094  251.623020   35557500         -1         1   \n",
       "\n",
       "      neutral  positive  \n",
       "0           1         0  \n",
       "1           0         0  \n",
       "2           0         0  \n",
       "3           0         0  \n",
       "4           0         0  \n",
       "...       ...       ...  \n",
       "5278        0         0  \n",
       "5279        0         0  \n",
       "5280        0         0  \n",
       "5281        0         1  \n",
       "5282        0         0  \n",
       "\n",
       "[5283 rows x 8 columns]"
      ]
     },
     "execution_count": 2,
     "metadata": {},
     "output_type": "execute_result"
    }
   ],
   "source": [
    "big_df = pd.read_csv('Apple_with_sentiment_onehot.csv')\n",
    "big_df = big_df.drop(['High', 'Low', 'daily_return', 'majority_vote_score'], axis=1)\n",
    "big_df['direction'] = np.where(big_df['Close'] - big_df['Open'] > 0, 1, -1)\n",
    "big_df"
   ]
  },
  {
   "cell_type": "code",
   "execution_count": 3,
   "id": "93e38846",
   "metadata": {},
   "outputs": [
    {
     "name": "stdout",
     "output_type": "stream",
     "text": [
      "X shape : (5282, 5)\n",
      "y shape : (5282, 1)\n"
     ]
    }
   ],
   "source": [
    "seq_len = 1\n",
    "# start creating sequences only after the first seq_len elements have passed \n",
    "X = np.zeros((big_df.shape[0] - seq_len, 5))\n",
    "y = np.zeros((big_df.shape[0] - seq_len, 1))\n",
    "print(\"X shape :\",X.shape)\n",
    "print(\"y shape :\",y.shape)"
   ]
  },
  {
   "cell_type": "code",
   "execution_count": 4,
   "id": "f901935c",
   "metadata": {},
   "outputs": [],
   "source": [
    "for i in range(seq_len , X.shape[0] + seq_len) :\n",
    "    prev_elems = big_df.iloc[i-seq_len][['Open', 'Close', 'positive', 'negative', 'neutral']] # previous available date\n",
    "    # only the desired values\n",
    "    prev_elems = [ prev_elems[p] for p in range(len(prev_elems))]\n",
    "    prev_elems = np.array(prev_elems)\n",
    "    # Store previous day close price as feature \n",
    "    X[i-seq_len] = prev_elems\n",
    "    # Store \"today's\" close price as label\n",
    "    y[i-seq_len] = big_df.iloc[i]['Close']"
   ]
  },
  {
   "cell_type": "code",
   "execution_count": 5,
   "id": "c0df55d1",
   "metadata": {},
   "outputs": [],
   "source": [
    "# transform features with standard scaler, and output values (close prices) to [0,1] with minmax scaler\n",
    "from sklearn.preprocessing import StandardScaler, MinMaxScaler\n",
    "mm = MinMaxScaler()\n",
    "#ss = StandardScaler()\n",
    "\n",
    "X_mm = mm.fit_transform(X)\n",
    "y_mm = mm.fit_transform(np.array(y).reshape(-1, 1))"
   ]
  },
  {
   "cell_type": "code",
   "execution_count": 6,
   "id": "89f9955d",
   "metadata": {},
   "outputs": [
    {
     "name": "stdout",
     "output_type": "stream",
     "text": [
      "Train data shapes X:(3698, 5) , y:(3698, 1)\n",
      "Test data shapes X:(792, 5) , y:(792, 1)\n",
      "Val data shapes X:(792, 5) , y:(792, 1)\n"
     ]
    }
   ],
   "source": [
    "# fraction of the test set.\n",
    "percentage = 0.30\n",
    "split_tr = ceil(X_mm.shape[0] *(1-percentage))\n",
    "split_val = ceil(X_mm.shape[0] *(1- percentage/2))\n",
    "\n",
    "X_train = X_mm[0:split_tr]\n",
    "y_train = y_mm[0:split_tr]\n",
    "X_val= X_mm[split_tr: split_val]\n",
    "y_val= y_mm[split_tr: split_val]\n",
    "X_test= X_mm[split_val:]\n",
    "y_test= y_mm[split_val:]\n",
    "print(f\"Train data shapes X:{X_train.shape} , y:{y_train.shape}\")\n",
    "print(f\"Test data shapes X:{X_test.shape} , y:{y_test.shape}\")\n",
    "print(f\"Val data shapes X:{X_val.shape} , y:{y_val.shape}\")"
   ]
  },
  {
   "cell_type": "code",
   "execution_count": 7,
   "id": "dcff5576",
   "metadata": {},
   "outputs": [],
   "source": [
    "X_tensors = Variable(torch.Tensor(X_mm))\n",
    "y_tensors = Variable(torch.Tensor(y_mm))\n",
    "#reshaping to rows, timestamps, features\n",
    "X_tensors = torch.reshape(X_tensors,   (X_tensors.shape[0], 1, X_tensors.shape[1]))\n",
    "y_tensors = torch.reshape(y_tensors,  (y_tensors.shape[0], 1, y_tensors.shape[1]))\n"
   ]
  },
  {
   "cell_type": "code",
   "execution_count": 8,
   "id": "62fb6c4e",
   "metadata": {},
   "outputs": [],
   "source": [
    "X_train_tensors = Variable(torch.Tensor(X_train))\n",
    "X_test_tensors = Variable(torch.Tensor(X_test))\n",
    "X_val_tensors = Variable(torch.Tensor(X_val))\n",
    "\n",
    "y_train_tensors = Variable(torch.Tensor(y_train))\n",
    "y_test_tensors = Variable(torch.Tensor(y_test))\n",
    "y_val_tensors = Variable(torch.Tensor(y_val))"
   ]
  },
  {
   "cell_type": "code",
   "execution_count": 9,
   "id": "c8b9e2af",
   "metadata": {},
   "outputs": [
    {
     "name": "stdout",
     "output_type": "stream",
     "text": [
      "Training Shape torch.Size([3698, 1, 5]) torch.Size([3698, 1])\n",
      "Testing Shape torch.Size([792, 1, 5]) torch.Size([792, 1])\n",
      "Testing Shape torch.Size([792, 1, 5]) torch.Size([792, 1])\n"
     ]
    }
   ],
   "source": [
    "#reshaping to rows, timestamps, features\n",
    "X_train_tensors_final = torch.reshape(X_train_tensors,   (X_train_tensors.shape[0], 1, X_train_tensors.shape[1]))\n",
    "X_test_tensors_final = torch.reshape(X_test_tensors,  (X_test_tensors.shape[0], 1, X_test_tensors.shape[1]))\n",
    "X_val_tensors_final = torch.reshape(X_val_tensors,  (X_val_tensors.shape[0], 1, X_val_tensors.shape[1]))\n",
    "\n",
    "print(\"Training Shape\", X_train_tensors_final.shape, y_train_tensors.shape)\n",
    "print(\"Testing Shape\", X_test_tensors_final.shape, y_test_tensors.shape)\n",
    "print(\"Testing Shape\", X_val_tensors_final.shape, y_val_tensors.shape)"
   ]
  },
  {
   "cell_type": "code",
   "execution_count": 10,
   "id": "16109d19",
   "metadata": {},
   "outputs": [],
   "source": [
    "class LSTM_reg(nn.Module):\n",
    "    def __init__(self, num_classes, input_size, hidden_size, num_layers, dropout=0.3, fc_size = 128):\n",
    "        super(LSTM_reg, self).__init__()\n",
    "        self.num_classes = num_classes #number of classes\n",
    "        self.num_layers = num_layers #number of layers\n",
    "        self.input_size = input_size #input size\n",
    "        self.hidden_size = hidden_size #hidden state\n",
    "\n",
    "        self.lstm = nn.LSTM(input_size=input_size, hidden_size=hidden_size,\n",
    "                            num_layers=num_layers, batch_first=True, dropout=dropout) #lstm\n",
    "        \n",
    "        self.fc_1 =  nn.Linear(hidden_size * num_layers, fc_size) #fully connected 1\n",
    "        self.fc = nn.Linear(fc_size, num_classes) #fully connected last layer\n",
    "\n",
    "        self.relu = nn.ReLU()\n",
    "\n",
    "    def forward(self,x):\n",
    "        h_0_0 = Variable(torch.zeros(self.num_layers, x.size(0), self.hidden_size)) #hidden state 1st lstm layer\n",
    "        c_0_0 = Variable(torch.zeros(self.num_layers, x.size(0), self.hidden_size)) #internal state 1st lstm layer\n",
    "\n",
    "        # Propagate input through LSTM\n",
    "        output, (hn, cn) = self.lstm(x, (h_0_0, c_0_0)) #lstm with input, hidden, and internal state\n",
    "       # print(output.shape)\n",
    "       # print(hn.shape)\n",
    "        hn = hn.view(-1, self.hidden_size * num_layers) #reshaping (flatten) the data for Dense layer next\n",
    "       # print(hn.shape)\n",
    "        out = self.relu(hn)\n",
    "        out = self.fc_1(out) #first Dense\n",
    "        out = self.relu(out) #relu\n",
    "        out = self.fc(out) #Final Output\n",
    "\n",
    "        return out"
   ]
  },
  {
   "cell_type": "code",
   "execution_count": 11,
   "id": "de4119e7",
   "metadata": {},
   "outputs": [
    {
     "name": "stderr",
     "output_type": "stream",
     "text": [
      "c:\\Users\\umuro\\anaconda3\\Lib\\site-packages\\torch\\nn\\modules\\rnn.py:123: UserWarning: dropout option adds dropout after all but last recurrent layer, so non-zero dropout expects num_layers greater than 1, but got dropout=0.3 and num_layers=1\n",
      "  warnings.warn(\n"
     ]
    }
   ],
   "source": [
    "#hyperparameters\n",
    "num_epochs = 1500 #1000 epochs\n",
    "learning_rate = 0.0003 #0.001 lr\n",
    "\n",
    "input_size = 5 #number of features\n",
    "hidden_size = 60 #number of features in hidden state\n",
    "num_layers = 1 #number of stacked lstm layers\n",
    "\n",
    "num_classes = 1 #number of output classes\n",
    "\n",
    "lstm_reg = LSTM_reg(num_classes, input_size, hidden_size, num_layers, dropout=0.3, fc_size=310) #our lstm class\n",
    "\n",
    "criterion = torch.nn.MSELoss()    # mean-squared error for regression\n",
    "optimizer = torch.optim.Adam(lstm_reg.parameters(), lr=learning_rate)"
   ]
  },
  {
   "cell_type": "code",
   "execution_count": 12,
   "id": "cabe4554",
   "metadata": {},
   "outputs": [
    {
     "name": "stderr",
     "output_type": "stream",
     "text": [
      "  0%|          | 7/1500 [00:02<05:42,  4.36it/s]"
     ]
    },
    {
     "name": "stdout",
     "output_type": "stream",
     "text": [
      "Epoch: 0, train_loss: 0.00314,  val_loss: 0.11463 \n"
     ]
    },
    {
     "name": "stderr",
     "output_type": "stream",
     "text": [
      "  7%|▋         | 107/1500 [00:03<00:22, 62.68it/s]"
     ]
    },
    {
     "name": "stdout",
     "output_type": "stream",
     "text": [
      "Epoch: 100, train_loss: 0.00178,  val_loss: 0.07795 \n"
     ]
    },
    {
     "name": "stderr",
     "output_type": "stream",
     "text": [
      " 14%|█▎        | 205/1500 [00:07<01:03, 20.45it/s]"
     ]
    },
    {
     "name": "stdout",
     "output_type": "stream",
     "text": [
      "Epoch: 200, train_loss: 0.00009,  val_loss: 0.01130 \n"
     ]
    },
    {
     "name": "stderr",
     "output_type": "stream",
     "text": [
      " 20%|██        | 304/1500 [00:11<00:54, 21.96it/s]"
     ]
    },
    {
     "name": "stdout",
     "output_type": "stream",
     "text": [
      "Epoch: 300, train_loss: 0.00000,  val_loss: 0.00298 \n"
     ]
    },
    {
     "name": "stderr",
     "output_type": "stream",
     "text": [
      " 27%|██▋       | 402/1500 [00:14<00:41, 26.69it/s]"
     ]
    },
    {
     "name": "stdout",
     "output_type": "stream",
     "text": [
      "Epoch: 400, train_loss: 0.00000,  val_loss: 0.00281 \n"
     ]
    },
    {
     "name": "stderr",
     "output_type": "stream",
     "text": [
      " 34%|███▍      | 508/1500 [00:17<00:18, 53.26it/s]"
     ]
    },
    {
     "name": "stdout",
     "output_type": "stream",
     "text": [
      "Epoch: 500, train_loss: 0.00000,  val_loss: 0.00281 \n"
     ]
    },
    {
     "name": "stderr",
     "output_type": "stream",
     "text": [
      " 41%|████      | 613/1500 [00:18<00:12, 69.49it/s]"
     ]
    },
    {
     "name": "stdout",
     "output_type": "stream",
     "text": [
      "Epoch: 600, train_loss: 0.00000,  val_loss: 0.00279 \n"
     ]
    },
    {
     "name": "stderr",
     "output_type": "stream",
     "text": [
      " 47%|████▋     | 702/1500 [00:20<00:36, 21.84it/s]"
     ]
    },
    {
     "name": "stdout",
     "output_type": "stream",
     "text": [
      "Epoch: 700, train_loss: 0.00000,  val_loss: 0.00278 \n"
     ]
    },
    {
     "name": "stderr",
     "output_type": "stream",
     "text": [
      " 54%|█████▎    | 806/1500 [00:27<00:17, 39.10it/s]"
     ]
    },
    {
     "name": "stdout",
     "output_type": "stream",
     "text": [
      "Epoch: 800, train_loss: 0.00000,  val_loss: 0.00278 \n"
     ]
    },
    {
     "name": "stderr",
     "output_type": "stream",
     "text": [
      " 60%|██████    | 905/1500 [00:34<00:24, 24.26it/s]"
     ]
    },
    {
     "name": "stdout",
     "output_type": "stream",
     "text": [
      "Epoch: 900, train_loss: 0.00000,  val_loss: 0.00278 \n"
     ]
    },
    {
     "name": "stderr",
     "output_type": "stream",
     "text": [
      " 67%|██████▋   | 1010/1500 [00:36<00:10, 48.40it/s]"
     ]
    },
    {
     "name": "stdout",
     "output_type": "stream",
     "text": [
      "Epoch: 1000, train_loss: 0.00000,  val_loss: 0.00278 \n"
     ]
    },
    {
     "name": "stderr",
     "output_type": "stream",
     "text": [
      " 74%|███████▍  | 1107/1500 [00:38<00:05, 65.92it/s]"
     ]
    },
    {
     "name": "stdout",
     "output_type": "stream",
     "text": [
      "Epoch: 1100, train_loss: 0.00000,  val_loss: 0.00278 \n"
     ]
    },
    {
     "name": "stderr",
     "output_type": "stream",
     "text": [
      " 81%|████████  | 1212/1500 [00:39<00:03, 74.99it/s]"
     ]
    },
    {
     "name": "stdout",
     "output_type": "stream",
     "text": [
      "Epoch: 1200, train_loss: 0.00000,  val_loss: 0.00277 \n"
     ]
    },
    {
     "name": "stderr",
     "output_type": "stream",
     "text": [
      " 88%|████████▊ | 1314/1500 [00:40<00:02, 69.71it/s]"
     ]
    },
    {
     "name": "stdout",
     "output_type": "stream",
     "text": [
      "Epoch: 1300, train_loss: 0.00000,  val_loss: 0.00277 \n"
     ]
    },
    {
     "name": "stderr",
     "output_type": "stream",
     "text": [
      " 94%|█████████▍| 1408/1500 [00:42<00:01, 73.57it/s]"
     ]
    },
    {
     "name": "stdout",
     "output_type": "stream",
     "text": [
      "Epoch: 1400, train_loss: 0.00000,  val_loss: 0.00277 \n"
     ]
    },
    {
     "name": "stderr",
     "output_type": "stream",
     "text": [
      "100%|██████████| 1500/1500 [00:43<00:00, 34.21it/s]\n"
     ]
    }
   ],
   "source": [
    "plot_loss_tr = []\n",
    "plot_loss_val = []\n",
    "for epoch in tqdm(range(num_epochs)):\n",
    "    outputs = lstm_reg.forward(X_train_tensors_final) #forward pass\n",
    "    optimizer.zero_grad() #caluclate the gradient, manually setting to 0\n",
    "\n",
    "    # obtain the loss function\n",
    "    loss = criterion(outputs, y_train_tensors)\n",
    "    plot_loss_tr.append(loss.item())\n",
    "    loss.backward() #calculates the loss of the loss function\n",
    "\n",
    "    # Compute validation loss\n",
    "    val_outs = lstm_reg.forward(X_val_tensors_final) #forward pass\n",
    "    val_loss = criterion(val_outs, y_val_tensors)\n",
    "    plot_loss_val.append(val_loss.item())\n",
    "\n",
    "    optimizer.step() #improve from loss, i.e backprop\n",
    "    if epoch % 100 == 0:\n",
    "        print(\"Epoch: %d, train_loss: %1.5f,  val_loss: %1.5f \" % (epoch, loss.item(), val_loss.item()))"
   ]
  },
  {
   "cell_type": "code",
   "execution_count": 13,
   "id": "0e31cf5b",
   "metadata": {},
   "outputs": [
    {
     "data": {
      "image/png": "[encoded data removed]",
      "text/plain": [
       "<Figure size 1000x1000 with 1 Axes>"
      ]
     },
     "metadata": {},
     "output_type": "display_data"
    }
   ],
   "source": [
    "fig , ax = plt.subplots(figsize = (10,10))\n",
    "\n",
    "plt.plot(plot_loss_val, label='Val_loss') #actual plot\n",
    "plt.plot(plot_loss_tr, label='Train_loss') #predicted plot\n",
    "plt.title('Training and validation loss curves')\n",
    "plt.legend()\n",
    "plt.show()"
   ]
  },
  {
   "cell_type": "code",
   "execution_count": 14,
   "id": "ddb05fc5",
   "metadata": {},
   "outputs": [
    {
     "data": {
      "image/png": "[encoded data removed]",
      "text/plain": [
       "<Figure size 1600x1200 with 1 Axes>"
      ]
     },
     "metadata": {},
     "output_type": "display_data"
    }
   ],
   "source": [
    "train_predict = lstm_reg(X_tensors) #forward pass\n",
    "data_predict = train_predict.data.numpy() #numpy conversion\n",
    "dataY_plot = y_tensors.data.numpy()\n",
    "dataY_plot =  np.reshape(dataY_plot, (dataY_plot.shape[0],1))\n",
    "\n",
    "data_predict = mm.inverse_transform(data_predict) #reverse transformation\n",
    "dataY_plot = mm.inverse_transform(dataY_plot)\n",
    "\n",
    "plt.figure(figsize=(16,12)) #plotting\n",
    "plt.axvline(x=split_tr, c='r', linestyle='--') #size of the training set\n",
    "\n",
    "plt.plot(dataY_plot, label='Actual Data') #actual plot\n",
    "plt.plot(data_predict, label='Predicted Data') #predicted plot\n",
    "plt.title('Time-Series Prediction')\n",
    "plt.legend()\n",
    "plt.show()"
   ]
  },
  {
   "cell_type": "code",
   "execution_count": 15,
   "id": "c6777b8a",
   "metadata": {},
   "outputs": [
    {
     "name": "stdout",
     "output_type": "stream",
     "text": [
      "VAL DATA, MSE loss :  184.87653\n"
     ]
    }
   ],
   "source": [
    "#from sklearn.metric import mean_squared_error\n",
    "mse = (np.power(dataY_plot[split_tr : split_val] - data_predict[split_tr : split_val], 2).mean())\n",
    "print(\"VAL DATA, MSE loss : \", mse)"
   ]
  },
  {
   "cell_type": "code",
   "execution_count": 16,
   "id": "2249ec0e",
   "metadata": {},
   "outputs": [
    {
     "name": "stdout",
     "output_type": "stream",
     "text": [
      "TRAIN DATA , MSE loss :  0.08158572\n"
     ]
    }
   ],
   "source": [
    "#from sklearn.metric import mean_squared_error\n",
    "mse = (np.power(dataY_plot[:split_tr] - data_predict[:split_tr], 2).mean())\n",
    "print(\"TRAIN DATA , MSE loss : \", mse)"
   ]
  },
  {
   "cell_type": "code",
   "execution_count": 17,
   "id": "5bbf19a0",
   "metadata": {},
   "outputs": [
    {
     "name": "stdout",
     "output_type": "stream",
     "text": [
      "Val DATA,  Spreaman correlation :  SignificanceResult(statistic=0.9963825947609685, pvalue=0.0)\n",
      "VAL DATA,  Pearson correlation= 0.9968214916133239 , pvalue= 0.0\n",
      "TRAIN DATA , Spreaman correlation :  SignificanceResult(statistic=0.9997221081314122, pvalue=0.0)\n",
      "TRAIN DATA,  Pearson correlation= 0.9997331607909843 , pvalue= 0.0\n"
     ]
    }
   ],
   "source": [
    "from scipy.stats import spearmanr, pearsonr\n",
    "#from sklearn.metric import mean_squared_error\n",
    "spearman = spearmanr(dataY_plot[split_tr : split_val], data_predict[split_tr : split_val])\n",
    "print(\"Val DATA,  Spreaman correlation : \", spearman)\n",
    "pearson, p= pearsonr(np.squeeze(dataY_plot[split_tr : split_val]), np.squeeze(data_predict[split_tr : split_val]))\n",
    "print(\"VAL DATA,  Pearson correlation=\", pearson, \", pvalue=\",p)\n",
    "\n",
    "\n",
    "#from sklearn.metric import mean_squared_error\n",
    "spearman = spearmanr(dataY_plot[:split_tr],data_predict[:split_tr])\n",
    "print(\"TRAIN DATA , Spreaman correlation : \", spearman)\n",
    "pearson2, p2= pearsonr(np.squeeze(dataY_plot[:split_tr]), np.squeeze(data_predict[:split_tr]))\n",
    "print(\"TRAIN DATA,  Pearson correlation=\", pearson2, \", pvalue=\",p2)"
   ]
  },
  {
   "cell_type": "code",
   "execution_count": 18,
   "id": "e04201c3",
   "metadata": {},
   "outputs": [
    {
     "name": "stdout",
     "output_type": "stream",
     "text": [
      "TEST DATA, MSE loss :  1509.4486\n",
      "TEST DATA,  Spreaman correlation :  SignificanceResult(statistic=0.9848635625792768, pvalue=0.0)\n",
      "TEST DATA,  Pearson correlation= 0.9880725312483933 , pvalue= 0.0\n"
     ]
    }
   ],
   "source": [
    "#from sklearn.metric import mean_squared_error\n",
    "mse = (np.power(dataY_plot[split_val:] - data_predict[split_val:], 2).mean())\n",
    "print(\"TEST DATA, MSE loss : \", mse)\n",
    "\n",
    "spearman = spearmanr(dataY_plot[split_val:],data_predict[split_val:])\n",
    "print(\"TEST DATA,  Spreaman correlation : \", spearman)\n",
    "pearson, p= pearsonr(np.squeeze(dataY_plot[split_val : ]), np.squeeze(data_predict[split_val : ]))\n",
    "print(\"TEST DATA,  Pearson correlation=\", pearson, \", pvalue=\",p)"
   ]
  }
 ],
 "metadata": {
  "kernelspec": {
   "display_name": "base",
   "language": "python",
   "name": "python3"
  },
  "language_info": {
   "codemirror_mode": {
    "name": "ipython",
    "version": 3
   },
   "file_extension": ".py",
   "mimetype": "text/x-python",
   "name": "python",
   "nbconvert_exporter": "python",
   "pygments_lexer": "ipython3",
   "version": "3.11.5"
  }
 },
 "nbformat": 4,
 "nbformat_minor": 5
}
