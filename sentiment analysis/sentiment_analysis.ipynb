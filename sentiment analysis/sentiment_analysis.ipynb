{
 "cells": [
  {
   "cell_type": "code",
   "execution_count": null,
   "id": "a0d244a9",
   "metadata": {},
   "outputs": [
    {
     "name": "stderr",
     "output_type": "stream",
     "text": [
      "100%|██████████| 68756/68756 [00:16<00:00, 4290.94it/s]\n",
      "100%|██████████| 68756/68756 [00:16<00:00, 4153.11it/s]\n"
     ]
    },
    {
     "data": {
      "application/vnd.jupyter.widget-view+json": {
       "model_id": "1e532aeb13b946b29927f1ab79bcdb3d",
       "version_major": 2,
       "version_minor": 0
      },
      "text/plain": [
       "config.json:   0%|          | 0.00/533 [00:00<?, ?B/s]"
      ]
     },
     "metadata": {},
     "output_type": "display_data"
    },
    {
     "name": "stderr",
     "output_type": "stream",
     "text": [
      "c:\\Users\\PC\\AppData\\Local\\Programs\\Python\\Python313\\Lib\\site-packages\\huggingface_hub\\file_download.py:143: UserWarning: `huggingface_hub` cache-system uses symlinks by default to efficiently store duplicated files but your machine does not support them in C:\\Users\\PC\\.cache\\huggingface\\hub\\models--yiyanghkust--finbert-tone. Caching files will still work but in a degraded version that might require more space on your disk. This warning can be disabled by setting the `HF_HUB_DISABLE_SYMLINKS_WARNING` environment variable. For more details, see https://huggingface.co/docs/huggingface_hub/how-to-cache#limitations.\n",
      "To support symlinks on Windows, you either need to activate Developer Mode or to run Python as an administrator. In order to activate developer mode, see this article: https://docs.microsoft.com/en-us/windows/apps/get-started/enable-your-device-for-development\n",
      "  warnings.warn(message)\n"
     ]
    },
    {
     "data": {
      "application/vnd.jupyter.widget-view+json": {
       "model_id": "997fe38c68d847aa94e83c66d5e9c716",
       "version_major": 2,
       "version_minor": 0
      },
      "text/plain": [
       "vocab.txt: 0.00B [00:00, ?B/s]"
      ]
     },
     "metadata": {},
     "output_type": "display_data"
    },
    {
     "data": {
      "application/vnd.jupyter.widget-view+json": {
       "model_id": "cc2e36f7261a42ceabe11f2e3010d6cd",
       "version_major": 2,
       "version_minor": 0
      },
      "text/plain": [
       "pytorch_model.bin:   0%|          | 0.00/439M [00:00<?, ?B/s]"
      ]
     },
     "metadata": {},
     "output_type": "display_data"
    },
    {
     "name": "stderr",
     "output_type": "stream",
     "text": [
      "  0%|          | 13/68756 [00:00<1:27:08, 13.15it/s]"
     ]
    },
    {
     "data": {
      "application/vnd.jupyter.widget-view+json": {
       "model_id": "528f140975224704983833bddfd7222e",
       "version_major": 2,
       "version_minor": 0
      },
      "text/plain": [
       "model.safetensors:   0%|          | 0.00/439M [00:00<?, ?B/s]"
      ]
     },
     "metadata": {},
     "output_type": "display_data"
    },
    {
     "name": "stderr",
     "output_type": "stream",
     "text": [
      "100%|██████████| 68756/68756 [1:15:12<00:00, 15.24it/s]\n"
     ]
    },
    {
     "name": "stdout",
     "output_type": "stream",
     "text": [
      "✅ Finansal section'lara sentiment skoru eklendi ve CSV kaydedildi!\n"
     ]
    }
   ],
   "source": [
    "import pandas as pd\n",
    "from tqdm import tqdm\n",
    "\n",
    "# Load your data\n",
    "df = pd.read_csv(\"nyt_frontpage_all_clean.csv\")\n",
    "\n",
    "# --- Optional: Filter for financial sections only ---\n",
    "financial_sections = [\n",
    "    \"Business Day\", \"Business\", \"Economy\", \"Economic\", \"Finance\", \"Financial\",\n",
    "    \"Markets\", \"Market\", \"Technology\", \"Tech\", \"Politics\", \"Political\",\n",
    "    \"U.S.\", \"World\", \"International\", \"Global\", \"Energy\", \"Oil\",\n",
    "    \"Federal Reserve\", \"Treasury\", \"Trade\", \"Commerce\"\n",
    "]\n",
    "df_fin = df[df[\"section_name\"].isin(financial_sections)].copy()\n",
    "\n",
    "# --- FinBERT Sentiment Only ---\n",
    "from transformers import AutoTokenizer, AutoModelForSequenceClassification\n",
    "import torch\n",
    "\n",
    "tokenizer = AutoTokenizer.from_pretrained(\"yiyanghkust/finbert-tone\")\n",
    "model = AutoModelForSequenceClassification.from_pretrained(\"yiyanghkust/finbert-tone\")\n",
    "labels = [\"negative\", \"neutral\", \"positive\"]\n",
    "\n",
    "tqdm.pandas()\n",
    "\n",
    "def finbert_sentiment(text):\n",
    "    with torch.no_grad():\n",
    "        inputs = tokenizer(text, return_tensors=\"pt\", truncation=True, max_length=128)\n",
    "        outputs = model(**inputs)\n",
    "        probs = torch.nn.functional.softmax(outputs.logits, dim=-1)\n",
    "        pred = labels[probs.argmax()]\n",
    "        return pred\n",
    "\n",
    "# Get string label\n",
    "df_fin[\"finbert_label\"] = df_fin[\"fulltext_clean\"].astype(str).progress_apply(finbert_sentiment)\n",
    "\n",
    "# Map to numeric: negative -> -1, neutral -> 0, positive -> 1\n",
    "label_map = {\"negative\": -1, \"neutral\": 0, \"positive\": 1}\n",
    "df_fin[\"finbert_numeric\"] = df_fin[\"finbert_label\"].map(label_map)\n",
    "\n",
    "# --- Save result ---\n",
    "df_fin.to_csv(\"nyt_frontpage_finbert_sentiment_numeric.csv\", index=False)\n",
    "print(\"✅ FinBERT sentiment labels and numeric scores added, CSV saved!\")\n",
    "\n"
   ]
  }
 ],
 "metadata": {
  "kernelspec": {
   "display_name": "Python 3",
   "language": "python",
   "name": "python3"
  },
  "language_info": {
   "codemirror_mode": {
    "name": "ipython",
    "version": 3
   },
   "file_extension": ".py",
   "mimetype": "text/x-python",
   "name": "python",
   "nbconvert_exporter": "python",
   "pygments_lexer": "ipython3",
   "version": "3.13.5"
  }
 },
 "nbformat": 4,
 "nbformat_minor": 5
}
