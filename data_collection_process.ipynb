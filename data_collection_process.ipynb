{
 "cells": [
  {
   "cell_type": "code",
   "execution_count": 49,
   "metadata": {},
   "outputs": [
    {
     "name": "stdout",
     "output_type": "stream",
     "text": [
      "Requirement already satisfied: yfinance in /opt/anaconda3/envs/test/lib/python3.10/site-packages (0.2.63)\n",
      "Requirement already satisfied: pandas in /opt/anaconda3/envs/test/lib/python3.10/site-packages (2.2.2)\n",
      "Requirement already satisfied: numpy>=1.16.5 in /opt/anaconda3/envs/test/lib/python3.10/site-packages (from yfinance) (2.0.2)\n",
      "Requirement already satisfied: requests>=2.31 in /opt/anaconda3/envs/test/lib/python3.10/site-packages (from yfinance) (2.32.3)\n",
      "Requirement already satisfied: multitasking>=0.0.7 in /opt/anaconda3/envs/test/lib/python3.10/site-packages (from yfinance) (0.0.11)\n",
      "Requirement already satisfied: platformdirs>=2.0.0 in /opt/anaconda3/envs/test/lib/python3.10/site-packages (from yfinance) (4.2.2)\n",
      "Requirement already satisfied: pytz>=2022.5 in /opt/anaconda3/envs/test/lib/python3.10/site-packages (from yfinance) (2024.1)\n",
      "Requirement already satisfied: frozendict>=2.3.4 in /opt/anaconda3/envs/test/lib/python3.10/site-packages (from yfinance) (2.4.6)\n",
      "Requirement already satisfied: peewee>=3.16.2 in /opt/anaconda3/envs/test/lib/python3.10/site-packages (from yfinance) (3.18.1)\n",
      "Requirement already satisfied: beautifulsoup4>=4.11.1 in /opt/anaconda3/envs/test/lib/python3.10/site-packages (from yfinance) (4.12.3)\n",
      "Requirement already satisfied: curl_cffi>=0.7 in /opt/anaconda3/envs/test/lib/python3.10/site-packages (from yfinance) (0.11.3)\n",
      "Requirement already satisfied: protobuf>=3.19.0 in /opt/anaconda3/envs/test/lib/python3.10/site-packages (from yfinance) (5.28.3)\n",
      "Requirement already satisfied: websockets>=13.0 in /opt/anaconda3/envs/test/lib/python3.10/site-packages (from yfinance) (15.0.1)\n",
      "Requirement already satisfied: python-dateutil>=2.8.2 in /opt/anaconda3/envs/test/lib/python3.10/site-packages (from pandas) (2.9.0.post0)\n",
      "Requirement already satisfied: tzdata>=2022.7 in /opt/anaconda3/envs/test/lib/python3.10/site-packages (from pandas) (2024.1)\n",
      "Requirement already satisfied: soupsieve>1.2 in /opt/anaconda3/envs/test/lib/python3.10/site-packages (from beautifulsoup4>=4.11.1->yfinance) (2.6)\n",
      "Requirement already satisfied: cffi>=1.12.0 in /opt/anaconda3/envs/test/lib/python3.10/site-packages (from curl_cffi>=0.7->yfinance) (1.17.0)\n",
      "Requirement already satisfied: certifi>=2024.2.2 in /opt/anaconda3/envs/test/lib/python3.10/site-packages (from curl_cffi>=0.7->yfinance) (2024.7.4)\n",
      "Requirement already satisfied: six>=1.5 in /opt/anaconda3/envs/test/lib/python3.10/site-packages (from python-dateutil>=2.8.2->pandas) (1.16.0)\n",
      "Requirement already satisfied: charset-normalizer<4,>=2 in /opt/anaconda3/envs/test/lib/python3.10/site-packages (from requests>=2.31->yfinance) (3.3.2)\n",
      "Requirement already satisfied: idna<4,>=2.5 in /opt/anaconda3/envs/test/lib/python3.10/site-packages (from requests>=2.31->yfinance) (3.8)\n",
      "Requirement already satisfied: urllib3<3,>=1.21.1 in /opt/anaconda3/envs/test/lib/python3.10/site-packages (from requests>=2.31->yfinance) (2.2.2)\n",
      "Requirement already satisfied: pycparser in /opt/anaconda3/envs/test/lib/python3.10/site-packages (from cffi>=1.12.0->curl_cffi>=0.7->yfinance) (2.22)\n",
      "Note: you may need to restart the kernel to use updated packages.\n"
     ]
    }
   ],
   "source": [
    "pip install yfinance pandas"
   ]
  },
  {
   "cell_type": "code",
   "execution_count": 50,
   "metadata": {},
   "outputs": [],
   "source": [
    "import yfinance as yf\n",
    "import pandas as pd\n",
    "import os"
   ]
  },
  {
   "cell_type": "code",
   "execution_count": 51,
   "metadata": {},
   "outputs": [],
   "source": [
    "START_DATE = \"2000-01-01\"\n",
    "END_DATE = \"2025-01-01\"\n",
    "\n",
    "# Endeksler\n",
    "INDEX_SYMBOLS = {\n",
    "    \"S&P 500\": \"^GSPC\",\n",
    "    \"NASDAQ Composite\": \"^IXIC\",\n",
    "    \"Dow Jones\": \"^DJI\"\n",
    "}\n",
    "\n",
    "# Emtialar ve faiz oranları\n",
    "COMMODITIES = {\n",
    "    \"Gold\": \"GC=F\",\n",
    "    \"Oil\": \"CL=F\",\n",
    "    \"10Y Treasury\": \"^TNX\",\n",
    "    \"Fed Funds Rate\": \"^IRX\"\n",
    "}\n",
    "\n",
    "# Döviz kurları\n",
    "CURRENCIES = {\n",
    "    \"EUR/USD\": \"EURUSD=X\",\n",
    "    \"USD/JPY\": \"JPY=X\"\n",
    "}\n",
    "\n",
    "# Hisse senetleri (10 farklı sektörden büyük şirketler)\n",
    "STOCK_SYMBOLS = {\n",
    "    \"Microsoft\": \"MSFT\",\n",
    "    \"Walmart\": \"WMT\",\n",
    "    \"Disney\": \"DIS\",\n",
    "    \"Apple\": \"AAPL\",\n",
    "    \"JP Morgan\": \"JPM\",\n",
    "    \"Exxon Mobil\": \"XOM\",\n",
    "    \"Johnson & Johnson\": \"JNJ\",\n",
    "    \"Google\": \"GOOGL\",\n",
    "    \"Coca-Cola\": \"KO\",\n",
    "    \"Intel\": \"INTC\"\n",
    "}\n"
   ]
  },
  {
   "cell_type": "markdown",
   "metadata": {},
   "source": [
    "### VERİ ÇEKME FONKSİYONU"
   ]
  },
  {
   "cell_type": "code",
   "execution_count": 52,
   "metadata": {},
   "outputs": [],
   "source": [
    "def download_data(symbol_dict, start, end, folder):\n",
    "    os.makedirs(folder, exist_ok=True)  # klasör yoksa oluştur\n",
    "    for name, symbol in symbol_dict.items():\n",
    "        print(f\"Downloading {name} ({symbol})...\")\n",
    "        df = yf.download(symbol, start=start, end=end)\n",
    "        df.to_csv(f\"{folder}/{name.replace('/', '-')}.csv\")  # veriyi CSV olarak kaydet"
   ]
  },
  {
   "cell_type": "code",
   "execution_count": 53,
   "metadata": {},
   "outputs": [
    {
     "name": "stderr",
     "output_type": "stream",
     "text": [
      "/var/folders/z4/kz3vwpx566d6n7hwbp9czp180000gn/T/ipykernel_6974/1314320788.py:5: FutureWarning: YF.download() has changed argument auto_adjust default to True\n",
      "  df = yf.download(symbol, start=start, end=end)\n",
      "[*********************100%***********************]  1 of 1 completed\n",
      "/var/folders/z4/kz3vwpx566d6n7hwbp9czp180000gn/T/ipykernel_6974/1314320788.py:5: FutureWarning: YF.download() has changed argument auto_adjust default to True\n",
      "  df = yf.download(symbol, start=start, end=end)\n",
      "[*********************100%***********************]  1 of 1 completed\n",
      "/var/folders/z4/kz3vwpx566d6n7hwbp9czp180000gn/T/ipykernel_6974/1314320788.py:5: FutureWarning: YF.download() has changed argument auto_adjust default to True\n",
      "  df = yf.download(symbol, start=start, end=end)\n",
      "[*********************100%***********************]  1 of 1 completed\n",
      "/var/folders/z4/kz3vwpx566d6n7hwbp9czp180000gn/T/ipykernel_6974/1314320788.py:5: FutureWarning: YF.download() has changed argument auto_adjust default to True\n",
      "  df = yf.download(symbol, start=start, end=end)\n",
      "[*********************100%***********************]  1 of 1 completed"
     ]
    },
    {
     "name": "stdout",
     "output_type": "stream",
     "text": [
      "Downloading S&P 500 (^GSPC)...\n",
      "Downloading NASDAQ Composite (^IXIC)...\n",
      "Downloading Dow Jones (^DJI)...\n",
      "Downloading Gold (GC=F)...\n",
      "Downloading Oil (CL=F)...\n"
     ]
    },
    {
     "name": "stderr",
     "output_type": "stream",
     "text": [
      "\n",
      "/var/folders/z4/kz3vwpx566d6n7hwbp9czp180000gn/T/ipykernel_6974/1314320788.py:5: FutureWarning: YF.download() has changed argument auto_adjust default to True\n",
      "  df = yf.download(symbol, start=start, end=end)\n",
      "[*********************100%***********************]  1 of 1 completed\n",
      "/var/folders/z4/kz3vwpx566d6n7hwbp9czp180000gn/T/ipykernel_6974/1314320788.py:5: FutureWarning: YF.download() has changed argument auto_adjust default to True\n",
      "  df = yf.download(symbol, start=start, end=end)\n",
      "[*********************100%***********************]  1 of 1 completed\n",
      "/var/folders/z4/kz3vwpx566d6n7hwbp9czp180000gn/T/ipykernel_6974/1314320788.py:5: FutureWarning: YF.download() has changed argument auto_adjust default to True\n",
      "  df = yf.download(symbol, start=start, end=end)\n",
      "[*********************100%***********************]  1 of 1 completed\n",
      "/var/folders/z4/kz3vwpx566d6n7hwbp9czp180000gn/T/ipykernel_6974/1314320788.py:5: FutureWarning: YF.download() has changed argument auto_adjust default to True\n",
      "  df = yf.download(symbol, start=start, end=end)\n",
      "[*********************100%***********************]  1 of 1 completed\n",
      "/var/folders/z4/kz3vwpx566d6n7hwbp9czp180000gn/T/ipykernel_6974/1314320788.py:5: FutureWarning: YF.download() has changed argument auto_adjust default to True\n",
      "  df = yf.download(symbol, start=start, end=end)\n",
      "[*********************100%***********************]  1 of 1 completed\n"
     ]
    },
    {
     "name": "stdout",
     "output_type": "stream",
     "text": [
      "Downloading 10Y Treasury (^TNX)...\n",
      "Downloading Fed Funds Rate (^IRX)...\n",
      "Downloading EUR/USD (EURUSD=X)...\n",
      "Downloading USD/JPY (JPY=X)...\n",
      "Downloading Microsoft (MSFT)...\n"
     ]
    },
    {
     "name": "stderr",
     "output_type": "stream",
     "text": [
      "/var/folders/z4/kz3vwpx566d6n7hwbp9czp180000gn/T/ipykernel_6974/1314320788.py:5: FutureWarning: YF.download() has changed argument auto_adjust default to True\n",
      "  df = yf.download(symbol, start=start, end=end)\n",
      "[*********************100%***********************]  1 of 1 completed\n",
      "/var/folders/z4/kz3vwpx566d6n7hwbp9czp180000gn/T/ipykernel_6974/1314320788.py:5: FutureWarning: YF.download() has changed argument auto_adjust default to True\n",
      "  df = yf.download(symbol, start=start, end=end)\n",
      "[*********************100%***********************]  1 of 1 completed\n",
      "/var/folders/z4/kz3vwpx566d6n7hwbp9czp180000gn/T/ipykernel_6974/1314320788.py:5: FutureWarning: YF.download() has changed argument auto_adjust default to True\n",
      "  df = yf.download(symbol, start=start, end=end)\n",
      "[*********************100%***********************]  1 of 1 completed\n",
      "/var/folders/z4/kz3vwpx566d6n7hwbp9czp180000gn/T/ipykernel_6974/1314320788.py:5: FutureWarning: YF.download() has changed argument auto_adjust default to True\n",
      "  df = yf.download(symbol, start=start, end=end)\n",
      "[*********************100%***********************]  1 of 1 completed\n"
     ]
    },
    {
     "name": "stdout",
     "output_type": "stream",
     "text": [
      "Downloading Walmart (WMT)...\n",
      "Downloading Disney (DIS)...\n",
      "Downloading Apple (AAPL)...\n",
      "Downloading JP Morgan (JPM)...\n"
     ]
    },
    {
     "name": "stderr",
     "output_type": "stream",
     "text": [
      "/var/folders/z4/kz3vwpx566d6n7hwbp9czp180000gn/T/ipykernel_6974/1314320788.py:5: FutureWarning: YF.download() has changed argument auto_adjust default to True\n",
      "  df = yf.download(symbol, start=start, end=end)\n",
      "[*********************100%***********************]  1 of 1 completed\n",
      "/var/folders/z4/kz3vwpx566d6n7hwbp9czp180000gn/T/ipykernel_6974/1314320788.py:5: FutureWarning: YF.download() has changed argument auto_adjust default to True\n",
      "  df = yf.download(symbol, start=start, end=end)\n",
      "[*********************100%***********************]  1 of 1 completed\n",
      "/var/folders/z4/kz3vwpx566d6n7hwbp9czp180000gn/T/ipykernel_6974/1314320788.py:5: FutureWarning: YF.download() has changed argument auto_adjust default to True\n",
      "  df = yf.download(symbol, start=start, end=end)\n",
      "[*********************100%***********************]  1 of 1 completed\n"
     ]
    },
    {
     "name": "stdout",
     "output_type": "stream",
     "text": [
      "Downloading Exxon Mobil (XOM)...\n",
      "Downloading Johnson & Johnson (JNJ)...\n",
      "Downloading Google (GOOGL)...\n"
     ]
    },
    {
     "name": "stderr",
     "output_type": "stream",
     "text": [
      "/var/folders/z4/kz3vwpx566d6n7hwbp9czp180000gn/T/ipykernel_6974/1314320788.py:5: FutureWarning: YF.download() has changed argument auto_adjust default to True\n",
      "  df = yf.download(symbol, start=start, end=end)\n",
      "[*********************100%***********************]  1 of 1 completed\n",
      "/var/folders/z4/kz3vwpx566d6n7hwbp9czp180000gn/T/ipykernel_6974/1314320788.py:5: FutureWarning: YF.download() has changed argument auto_adjust default to True\n",
      "  df = yf.download(symbol, start=start, end=end)\n"
     ]
    },
    {
     "name": "stdout",
     "output_type": "stream",
     "text": [
      "Downloading Coca-Cola (KO)...\n"
     ]
    },
    {
     "name": "stderr",
     "output_type": "stream",
     "text": [
      "[*********************100%***********************]  1 of 1 completed\n",
      "/var/folders/z4/kz3vwpx566d6n7hwbp9czp180000gn/T/ipykernel_6974/1314320788.py:5: FutureWarning: YF.download() has changed argument auto_adjust default to True\n",
      "  df = yf.download(symbol, start=start, end=end)\n"
     ]
    },
    {
     "name": "stdout",
     "output_type": "stream",
     "text": [
      "Downloading Intel (INTC)...\n"
     ]
    },
    {
     "name": "stderr",
     "output_type": "stream",
     "text": [
      "[*********************100%***********************]  1 of 1 completed\n"
     ]
    }
   ],
   "source": [
    "download_data(INDEX_SYMBOLS, START_DATE, END_DATE, \"data/indices\")\n",
    "download_data(COMMODITIES, START_DATE, END_DATE, \"data/commodities\")\n",
    "download_data(CURRENCIES, START_DATE, END_DATE, \"data/currencies\")\n",
    "download_data(STOCK_SYMBOLS, START_DATE, END_DATE, \"data/stocks\")"
   ]
  },
  {
   "cell_type": "code",
   "execution_count": 56,
   "metadata": {},
   "outputs": [
    {
     "name": "stdout",
     "output_type": "stream",
     "text": [
      "[OK] Google.csv temizlendi ve kaydedildi.\n",
      "[OK] Walmart.csv temizlendi ve kaydedildi.\n",
      "[OK] Apple.csv temizlendi ve kaydedildi.\n",
      "[OK] Intel.csv temizlendi ve kaydedildi.\n",
      "[OK] Coca-Cola.csv temizlendi ve kaydedildi.\n",
      "[OK] Exxon Mobil.csv temizlendi ve kaydedildi.\n",
      "[OK] Disney.csv temizlendi ve kaydedildi.\n",
      "[OK] Johnson & Johnson.csv temizlendi ve kaydedildi.\n",
      "[OK] Microsoft.csv temizlendi ve kaydedildi.\n",
      "[OK] JP Morgan.csv temizlendi ve kaydedildi.\n"
     ]
    }
   ],
   "source": [
    "import pandas as pd\n",
    "import os\n",
    "\n",
    "# Giriş ve çıkış klasörleri\n",
    "input_folder = \"data/stocks\"\n",
    "output_folder = \"data/stocks_cleaned\"\n",
    "os.makedirs(output_folder, exist_ok=True)\n",
    "\n",
    "# Her CSV dosyasını sırayla işle\n",
    "for filename in os.listdir(input_folder):\n",
    "    if filename.endswith(\".csv\"):\n",
    "        file_path = os.path.join(input_folder, filename)\n",
    "        \n",
    "        try:\n",
    "            # 1. İlk iki satırı atla ve oku\n",
    "            df = pd.read_csv(file_path, skiprows=2)\n",
    "\n",
    "            # 2. Tarih sütununu datetime'a çevir\n",
    "            df[\"Date\"] = pd.to_datetime(df[\"Date\"])\n",
    "\n",
    "            # 3. Tarihi index yap\n",
    "            df.set_index(\"Date\", inplace=True)\n",
    "\n",
    "            # 4. Sütun adlarını düzenle (bazı CSV'lerde eksik olabilir)\n",
    "            expected_cols = [\"Close\", \"High\", \"Low\", \"Open\", \"Volume\"]\n",
    "            if len(df.columns) == len(expected_cols):\n",
    "                df.columns = expected_cols\n",
    "            else:\n",
    "                print(f\"[UYARI] {filename} beklenen sütun sayısına uymuyor, atlandı.\")\n",
    "                continue\n",
    "\n",
    "            # 5. Temizlenmiş dosyayı kaydet\n",
    "            cleaned_file_path = os.path.join(output_folder, filename.replace(\".csv\", \"_cleaned.csv\"))\n",
    "            df.to_csv(cleaned_file_path)\n",
    "            print(f\"[OK] {filename} temizlendi ve kaydedildi.\")\n",
    "\n",
    "        except Exception as e:\n",
    "            print(f\"[HATA] {filename} işlenemedi: {e}\")\n"
   ]
  },
  {
   "cell_type": "code",
   "execution_count": 57,
   "metadata": {},
   "outputs": [
    {
     "data": {
      "text/html": [
       "<div>\n",
       "<style scoped>\n",
       "    .dataframe tbody tr th:only-of-type {\n",
       "        vertical-align: middle;\n",
       "    }\n",
       "\n",
       "    .dataframe tbody tr th {\n",
       "        vertical-align: top;\n",
       "    }\n",
       "\n",
       "    .dataframe thead th {\n",
       "        text-align: right;\n",
       "    }\n",
       "</style>\n",
       "<table border=\"1\" class=\"dataframe\">\n",
       "  <thead>\n",
       "    <tr style=\"text-align: right;\">\n",
       "      <th></th>\n",
       "      <th>Close</th>\n",
       "      <th>High</th>\n",
       "      <th>Low</th>\n",
       "      <th>Open</th>\n",
       "      <th>Volume</th>\n",
       "    </tr>\n",
       "    <tr>\n",
       "      <th>Date</th>\n",
       "      <th></th>\n",
       "      <th></th>\n",
       "      <th></th>\n",
       "      <th></th>\n",
       "      <th></th>\n",
       "    </tr>\n",
       "  </thead>\n",
       "  <tbody>\n",
       "    <tr>\n",
       "      <th>2000-01-03</th>\n",
       "      <td>0.841048</td>\n",
       "      <td>0.845274</td>\n",
       "      <td>0.764034</td>\n",
       "      <td>0.787983</td>\n",
       "      <td>535796800</td>\n",
       "    </tr>\n",
       "    <tr>\n",
       "      <th>2000-01-04</th>\n",
       "      <td>0.770139</td>\n",
       "      <td>0.831186</td>\n",
       "      <td>0.760277</td>\n",
       "      <td>0.813341</td>\n",
       "      <td>512377600</td>\n",
       "    </tr>\n",
       "    <tr>\n",
       "      <th>2000-01-05</th>\n",
       "      <td>0.781409</td>\n",
       "      <td>0.830716</td>\n",
       "      <td>0.773896</td>\n",
       "      <td>0.779530</td>\n",
       "      <td>778321600</td>\n",
       "    </tr>\n",
       "    <tr>\n",
       "      <th>2000-01-06</th>\n",
       "      <td>0.713787</td>\n",
       "      <td>0.803949</td>\n",
       "      <td>0.713787</td>\n",
       "      <td>0.797375</td>\n",
       "      <td>767972800</td>\n",
       "    </tr>\n",
       "    <tr>\n",
       "      <th>2000-01-07</th>\n",
       "      <td>0.747598</td>\n",
       "      <td>0.758869</td>\n",
       "      <td>0.717544</td>\n",
       "      <td>0.725057</td>\n",
       "      <td>460734400</td>\n",
       "    </tr>\n",
       "  </tbody>\n",
       "</table>\n",
       "</div>"
      ],
      "text/plain": [
       "               Close      High       Low      Open     Volume\n",
       "Date                                                         \n",
       "2000-01-03  0.841048  0.845274  0.764034  0.787983  535796800\n",
       "2000-01-04  0.770139  0.831186  0.760277  0.813341  512377600\n",
       "2000-01-05  0.781409  0.830716  0.773896  0.779530  778321600\n",
       "2000-01-06  0.713787  0.803949  0.713787  0.797375  767972800\n",
       "2000-01-07  0.747598  0.758869  0.717544  0.725057  460734400"
      ]
     },
     "execution_count": 57,
     "metadata": {},
     "output_type": "execute_result"
    }
   ],
   "source": [
    "import pandas as pd\n",
    "\n",
    "# Örnek: Apple verisini yükle\n",
    "apple_df = pd.read_csv(\"data/stocks_cleaned/Apple_cleaned.csv\", parse_dates=[\"Date\"], index_col=\"Date\")\n",
    "apple_df.head()"
   ]
  },
  {
   "cell_type": "code",
   "execution_count": 58,
   "metadata": {},
   "outputs": [],
   "source": [
    "import os\n",
    "\n",
    "def combine_close_prices(folder_path):\n",
    "    combined_df = pd.DataFrame()\n",
    "\n",
    "    for filename in os.listdir(folder_path):\n",
    "        if filename.endswith(\".csv\"):\n",
    "            symbol = filename.split(\"_cleaned\")[0]  # Örn. Apple_cleaned.csv → Apple\n",
    "            path = os.path.join(folder_path, filename)\n",
    "\n",
    "            df = pd.read_csv(path, parse_dates=[\"Date\"], index_col=\"Date\")\n",
    "            df = df[[\"Close\"]].rename(columns={\"Close\": symbol})\n",
    "\n",
    "            if combined_df.empty:\n",
    "                combined_df = df\n",
    "            else:\n",
    "                combined_df = combined_df.join(df, how=\"outer\")  # Zaman uyumlu birleştirme\n",
    "\n",
    "    return combined_df.sort_index()"
   ]
  },
  {
   "cell_type": "code",
   "execution_count": 60,
   "metadata": {},
   "outputs": [],
   "source": [
    "stocks_close_combined = combine_close_prices(\"data/stocks_cleaned\")\n",
    "stocks_close_combined.head()\n",
    "# Klasörü oluştur (zaten varsa sorun olmaz)\n",
    "os.makedirs(\"data/combined\", exist_ok=True)\n",
    "# Kaydet\n",
    "stocks_close_combined.to_csv(\"data/combined/stocks_close_combined.csv\")"
   ]
  }
 ],
 "metadata": {
  "kernelspec": {
   "display_name": "test",
   "language": "python",
   "name": "python3"
  },
  "language_info": {
   "codemirror_mode": {
    "name": "ipython",
    "version": 3
   },
   "file_extension": ".py",
   "mimetype": "text/x-python",
   "name": "python",
   "nbconvert_exporter": "python",
   "pygments_lexer": "ipython3",
   "version": "3.10.0"
  }
 },
 "nbformat": 4,
 "nbformat_minor": 2
}
