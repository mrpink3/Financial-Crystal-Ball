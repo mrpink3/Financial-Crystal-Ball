{
 "cells": [
  {
   "cell_type": "code",
   "execution_count": 117,
   "metadata": {},
   "outputs": [
    {
     "name": "stdout",
     "output_type": "stream",
     "text": [
      "Requirement already satisfied: yfinance in /opt/anaconda3/envs/test/lib/python3.10/site-packages (0.2.63)\n",
      "Requirement already satisfied: pandas in /opt/anaconda3/envs/test/lib/python3.10/site-packages (2.2.2)\n",
      "Requirement already satisfied: numpy>=1.16.5 in /opt/anaconda3/envs/test/lib/python3.10/site-packages (from yfinance) (2.0.2)\n",
      "Requirement already satisfied: requests>=2.31 in /opt/anaconda3/envs/test/lib/python3.10/site-packages (from yfinance) (2.32.3)\n",
      "Requirement already satisfied: multitasking>=0.0.7 in /opt/anaconda3/envs/test/lib/python3.10/site-packages (from yfinance) (0.0.11)\n",
      "Requirement already satisfied: platformdirs>=2.0.0 in /opt/anaconda3/envs/test/lib/python3.10/site-packages (from yfinance) (4.2.2)\n",
      "Requirement already satisfied: pytz>=2022.5 in /opt/anaconda3/envs/test/lib/python3.10/site-packages (from yfinance) (2024.1)\n",
      "Requirement already satisfied: frozendict>=2.3.4 in /opt/anaconda3/envs/test/lib/python3.10/site-packages (from yfinance) (2.4.6)\n",
      "Requirement already satisfied: peewee>=3.16.2 in /opt/anaconda3/envs/test/lib/python3.10/site-packages (from yfinance) (3.18.1)\n",
      "Requirement already satisfied: beautifulsoup4>=4.11.1 in /opt/anaconda3/envs/test/lib/python3.10/site-packages (from yfinance) (4.12.3)\n",
      "Requirement already satisfied: curl_cffi>=0.7 in /opt/anaconda3/envs/test/lib/python3.10/site-packages (from yfinance) (0.11.3)\n",
      "Requirement already satisfied: protobuf>=3.19.0 in /opt/anaconda3/envs/test/lib/python3.10/site-packages (from yfinance) (5.28.3)\n",
      "Requirement already satisfied: websockets>=13.0 in /opt/anaconda3/envs/test/lib/python3.10/site-packages (from yfinance) (15.0.1)\n",
      "Requirement already satisfied: python-dateutil>=2.8.2 in /opt/anaconda3/envs/test/lib/python3.10/site-packages (from pandas) (2.9.0.post0)\n",
      "Requirement already satisfied: tzdata>=2022.7 in /opt/anaconda3/envs/test/lib/python3.10/site-packages (from pandas) (2024.1)\n",
      "Requirement already satisfied: soupsieve>1.2 in /opt/anaconda3/envs/test/lib/python3.10/site-packages (from beautifulsoup4>=4.11.1->yfinance) (2.6)\n",
      "Requirement already satisfied: cffi>=1.12.0 in /opt/anaconda3/envs/test/lib/python3.10/site-packages (from curl_cffi>=0.7->yfinance) (1.17.0)\n",
      "Requirement already satisfied: certifi>=2024.2.2 in /opt/anaconda3/envs/test/lib/python3.10/site-packages (from curl_cffi>=0.7->yfinance) (2024.7.4)\n",
      "Requirement already satisfied: six>=1.5 in /opt/anaconda3/envs/test/lib/python3.10/site-packages (from python-dateutil>=2.8.2->pandas) (1.16.0)\n",
      "Requirement already satisfied: charset-normalizer<4,>=2 in /opt/anaconda3/envs/test/lib/python3.10/site-packages (from requests>=2.31->yfinance) (3.3.2)\n",
      "Requirement already satisfied: idna<4,>=2.5 in /opt/anaconda3/envs/test/lib/python3.10/site-packages (from requests>=2.31->yfinance) (3.8)\n",
      "Requirement already satisfied: urllib3<3,>=1.21.1 in /opt/anaconda3/envs/test/lib/python3.10/site-packages (from requests>=2.31->yfinance) (2.2.2)\n",
      "Requirement already satisfied: pycparser in /opt/anaconda3/envs/test/lib/python3.10/site-packages (from cffi>=1.12.0->curl_cffi>=0.7->yfinance) (2.22)\n",
      "Note: you may need to restart the kernel to use updated packages.\n"
     ]
    }
   ],
   "source": [
    "pip install yfinance pandas"
   ]
  },
  {
   "cell_type": "code",
   "execution_count": 118,
   "metadata": {},
   "outputs": [],
   "source": [
    "import yfinance as yf\n",
    "import pandas as pd\n",
    "import os"
   ]
  },
  {
   "cell_type": "code",
   "execution_count": 119,
   "metadata": {},
   "outputs": [],
   "source": [
    "START_DATE = \"2000-01-01\"\n",
    "END_DATE = \"2025-01-01\"\n",
    "\n",
    "# Endeksler\n",
    "INDEX_SYMBOLS = {\n",
    "    \"S&P 500\": \"^GSPC\",\n",
    "    \"NASDAQ Composite\": \"^IXIC\",\n",
    "    \"Dow Jones\": \"^DJI\"\n",
    "}\n",
    "\n",
    "# Emtialar ve faiz oranları\n",
    "COMMODITIES = {\n",
    "    \"Gold\": \"GC=F\",\n",
    "    \"Oil\": \"CL=F\",\n",
    "    \"10Y Treasury\": \"^TNX\",\n",
    "    \"Fed Funds Rate\": \"^IRX\"\n",
    "}\n",
    "\n",
    "# Döviz kurları\n",
    "CURRENCIES = {\n",
    "    \"EUR/USD\": \"EURUSD=X\",\n",
    "    \"USD/JPY\": \"JPY=X\"\n",
    "}\n",
    "\n",
    "# Hisse senetleri (10 farklı sektörden büyük şirketler)\n",
    "STOCK_SYMBOLS = {\n",
    "    \"Microsoft\": \"MSFT\",\n",
    "    \"Walmart\": \"WMT\",\n",
    "    \"Disney\": \"DIS\",\n",
    "    \"Apple\": \"AAPL\",\n",
    "    \"JP Morgan\": \"JPM\",\n",
    "    \"Exxon Mobil\": \"XOM\",\n",
    "    \"Johnson & Johnson\": \"JNJ\",\n",
    "    \"Google\": \"GOOGL\",\n",
    "    \"Coca-Cola\": \"KO\",\n",
    "    \"Intel\": \"INTC\"\n",
    "}\n"
   ]
  },
  {
   "cell_type": "markdown",
   "metadata": {},
   "source": [
    "### VERİ ÇEKME FONKSİYONU"
   ]
  },
  {
   "cell_type": "code",
   "execution_count": 120,
   "metadata": {},
   "outputs": [],
   "source": [
    "def download_data(symbol_dict, start, end, folder):\n",
    "    os.makedirs(folder, exist_ok=True)  # klasör yoksa oluştur\n",
    "    for name, symbol in symbol_dict.items():\n",
    "        print(f\"Downloading {name} ({symbol})...\")\n",
    "        df = yf.download(symbol, start=start, end=end)\n",
    "        df.to_csv(f\"{folder}/{name.replace('/', '-')}.csv\")  # veriyi CSV olarak kaydet"
   ]
  },
  {
   "cell_type": "code",
   "execution_count": 121,
   "metadata": {},
   "outputs": [
    {
     "name": "stderr",
     "output_type": "stream",
     "text": [
      "/var/folders/z4/kz3vwpx566d6n7hwbp9czp180000gn/T/ipykernel_6974/1314320788.py:5: FutureWarning: YF.download() has changed argument auto_adjust default to True\n",
      "  df = yf.download(symbol, start=start, end=end)\n",
      "[*********************100%***********************]  1 of 1 completed\n",
      "/var/folders/z4/kz3vwpx566d6n7hwbp9czp180000gn/T/ipykernel_6974/1314320788.py:5: FutureWarning: YF.download() has changed argument auto_adjust default to True\n",
      "  df = yf.download(symbol, start=start, end=end)\n",
      "[*********************100%***********************]  1 of 1 completed\n",
      "/var/folders/z4/kz3vwpx566d6n7hwbp9czp180000gn/T/ipykernel_6974/1314320788.py:5: FutureWarning: YF.download() has changed argument auto_adjust default to True\n",
      "  df = yf.download(symbol, start=start, end=end)\n",
      "[*********************100%***********************]  1 of 1 completed\n",
      "/var/folders/z4/kz3vwpx566d6n7hwbp9czp180000gn/T/ipykernel_6974/1314320788.py:5: FutureWarning: YF.download() has changed argument auto_adjust default to True\n",
      "  df = yf.download(symbol, start=start, end=end)\n",
      "[*********************100%***********************]  1 of 1 completed"
     ]
    },
    {
     "name": "stdout",
     "output_type": "stream",
     "text": [
      "Downloading S&P 500 (^GSPC)...\n",
      "Downloading NASDAQ Composite (^IXIC)...\n",
      "Downloading Dow Jones (^DJI)...\n",
      "Downloading Gold (GC=F)...\n",
      "Downloading Oil (CL=F)...\n"
     ]
    },
    {
     "name": "stderr",
     "output_type": "stream",
     "text": [
      "\n",
      "/var/folders/z4/kz3vwpx566d6n7hwbp9czp180000gn/T/ipykernel_6974/1314320788.py:5: FutureWarning: YF.download() has changed argument auto_adjust default to True\n",
      "  df = yf.download(symbol, start=start, end=end)\n",
      "[*********************100%***********************]  1 of 1 completed\n",
      "/var/folders/z4/kz3vwpx566d6n7hwbp9czp180000gn/T/ipykernel_6974/1314320788.py:5: FutureWarning: YF.download() has changed argument auto_adjust default to True\n",
      "  df = yf.download(symbol, start=start, end=end)\n",
      "[*********************100%***********************]  1 of 1 completed\n",
      "/var/folders/z4/kz3vwpx566d6n7hwbp9czp180000gn/T/ipykernel_6974/1314320788.py:5: FutureWarning: YF.download() has changed argument auto_adjust default to True\n",
      "  df = yf.download(symbol, start=start, end=end)\n",
      "[*********************100%***********************]  1 of 1 completed\n",
      "/var/folders/z4/kz3vwpx566d6n7hwbp9czp180000gn/T/ipykernel_6974/1314320788.py:5: FutureWarning: YF.download() has changed argument auto_adjust default to True\n",
      "  df = yf.download(symbol, start=start, end=end)\n",
      "[*********************100%***********************]  1 of 1 completed\n",
      "/var/folders/z4/kz3vwpx566d6n7hwbp9czp180000gn/T/ipykernel_6974/1314320788.py:5: FutureWarning: YF.download() has changed argument auto_adjust default to True\n",
      "  df = yf.download(symbol, start=start, end=end)\n",
      "[*********************100%***********************]  1 of 1 completed"
     ]
    },
    {
     "name": "stdout",
     "output_type": "stream",
     "text": [
      "Downloading 10Y Treasury (^TNX)...\n",
      "Downloading Fed Funds Rate (^IRX)...\n",
      "Downloading EUR/USD (EURUSD=X)...\n",
      "Downloading USD/JPY (JPY=X)...\n"
     ]
    },
    {
     "name": "stderr",
     "output_type": "stream",
     "text": [
      "\n",
      "/var/folders/z4/kz3vwpx566d6n7hwbp9czp180000gn/T/ipykernel_6974/1314320788.py:5: FutureWarning: YF.download() has changed argument auto_adjust default to True\n",
      "  df = yf.download(symbol, start=start, end=end)\n",
      "[*********************100%***********************]  1 of 1 completed\n",
      "/var/folders/z4/kz3vwpx566d6n7hwbp9czp180000gn/T/ipykernel_6974/1314320788.py:5: FutureWarning: YF.download() has changed argument auto_adjust default to True\n",
      "  df = yf.download(symbol, start=start, end=end)\n",
      "[*********************100%***********************]  1 of 1 completed\n",
      "/var/folders/z4/kz3vwpx566d6n7hwbp9czp180000gn/T/ipykernel_6974/1314320788.py:5: FutureWarning: YF.download() has changed argument auto_adjust default to True\n",
      "  df = yf.download(symbol, start=start, end=end)\n",
      "[*********************100%***********************]  1 of 1 completed\n"
     ]
    },
    {
     "name": "stdout",
     "output_type": "stream",
     "text": [
      "Downloading Microsoft (MSFT)...\n",
      "Downloading Walmart (WMT)...\n",
      "Downloading Disney (DIS)...\n",
      "Downloading Apple (AAPL)...\n"
     ]
    },
    {
     "name": "stderr",
     "output_type": "stream",
     "text": [
      "/var/folders/z4/kz3vwpx566d6n7hwbp9czp180000gn/T/ipykernel_6974/1314320788.py:5: FutureWarning: YF.download() has changed argument auto_adjust default to True\n",
      "  df = yf.download(symbol, start=start, end=end)\n",
      "[*********************100%***********************]  1 of 1 completed\n",
      "/var/folders/z4/kz3vwpx566d6n7hwbp9czp180000gn/T/ipykernel_6974/1314320788.py:5: FutureWarning: YF.download() has changed argument auto_adjust default to True\n",
      "  df = yf.download(symbol, start=start, end=end)\n",
      "[*********************100%***********************]  1 of 1 completed\n",
      "/var/folders/z4/kz3vwpx566d6n7hwbp9czp180000gn/T/ipykernel_6974/1314320788.py:5: FutureWarning: YF.download() has changed argument auto_adjust default to True\n",
      "  df = yf.download(symbol, start=start, end=end)\n",
      "[*********************100%***********************]  1 of 1 completed\n",
      "/var/folders/z4/kz3vwpx566d6n7hwbp9czp180000gn/T/ipykernel_6974/1314320788.py:5: FutureWarning: YF.download() has changed argument auto_adjust default to True\n",
      "  df = yf.download(symbol, start=start, end=end)\n"
     ]
    },
    {
     "name": "stdout",
     "output_type": "stream",
     "text": [
      "Downloading JP Morgan (JPM)...\n",
      "Downloading Exxon Mobil (XOM)...\n",
      "Downloading Johnson & Johnson (JNJ)...\n"
     ]
    },
    {
     "name": "stderr",
     "output_type": "stream",
     "text": [
      "[*********************100%***********************]  1 of 1 completed\n",
      "/var/folders/z4/kz3vwpx566d6n7hwbp9czp180000gn/T/ipykernel_6974/1314320788.py:5: FutureWarning: YF.download() has changed argument auto_adjust default to True\n",
      "  df = yf.download(symbol, start=start, end=end)\n",
      "[*********************100%***********************]  1 of 1 completed\n",
      "/var/folders/z4/kz3vwpx566d6n7hwbp9czp180000gn/T/ipykernel_6974/1314320788.py:5: FutureWarning: YF.download() has changed argument auto_adjust default to True\n",
      "  df = yf.download(symbol, start=start, end=end)\n",
      "[*********************100%***********************]  1 of 1 completed\n",
      "/var/folders/z4/kz3vwpx566d6n7hwbp9czp180000gn/T/ipykernel_6974/1314320788.py:5: FutureWarning: YF.download() has changed argument auto_adjust default to True\n",
      "  df = yf.download(symbol, start=start, end=end)\n",
      "[*********************100%***********************]  1 of 1 completed"
     ]
    },
    {
     "name": "stdout",
     "output_type": "stream",
     "text": [
      "Downloading Google (GOOGL)...\n",
      "Downloading Coca-Cola (KO)...\n",
      "Downloading Intel (INTC)...\n"
     ]
    },
    {
     "name": "stderr",
     "output_type": "stream",
     "text": [
      "\n"
     ]
    }
   ],
   "source": [
    "download_data(INDEX_SYMBOLS, START_DATE, END_DATE, \"data/indices\")\n",
    "download_data(COMMODITIES, START_DATE, END_DATE, \"data/commodities\")\n",
    "download_data(CURRENCIES, START_DATE, END_DATE, \"data/currencies\")\n",
    "download_data(STOCK_SYMBOLS, START_DATE, END_DATE, \"data/stocks\")"
   ]
  },
  {
   "cell_type": "code",
   "execution_count": 122,
   "metadata": {},
   "outputs": [
    {
     "name": "stdout",
     "output_type": "stream",
     "text": [
      "\n",
      "📂 STOCKS klasörü işleniyor...\n",
      "[OK] Google.csv → stocks_cleaned klasörüne kaydedildi.\n",
      "[OK] Walmart.csv → stocks_cleaned klasörüne kaydedildi.\n",
      "[OK] Apple.csv → stocks_cleaned klasörüne kaydedildi.\n",
      "[OK] Intel.csv → stocks_cleaned klasörüne kaydedildi.\n",
      "[OK] Coca-Cola.csv → stocks_cleaned klasörüne kaydedildi.\n",
      "[OK] Exxon Mobil.csv → stocks_cleaned klasörüne kaydedildi.\n",
      "[OK] Disney.csv → stocks_cleaned klasörüne kaydedildi.\n",
      "[OK] Johnson & Johnson.csv → stocks_cleaned klasörüne kaydedildi.\n",
      "[OK] Microsoft.csv → stocks_cleaned klasörüne kaydedildi.\n",
      "[OK] JP Morgan.csv → stocks_cleaned klasörüne kaydedildi.\n",
      "\n",
      "📂 INDICES klasörü işleniyor...\n",
      "[OK] Dow Jones.csv → indices_cleaned klasörüne kaydedildi.\n",
      "[OK] S&P 500.csv → indices_cleaned klasörüne kaydedildi.\n",
      "[OK] NASDAQ Composite.csv → indices_cleaned klasörüne kaydedildi.\n",
      "\n",
      "📂 COMMODITIES klasörü işleniyor...\n",
      "[OK] 10Y Treasury.csv → commodities_cleaned klasörüne kaydedildi.\n",
      "[OK] Gold.csv → commodities_cleaned klasörüne kaydedildi.\n",
      "[OK] Fed Funds Rate.csv → commodities_cleaned klasörüne kaydedildi.\n",
      "[OK] Oil.csv → commodities_cleaned klasörüne kaydedildi.\n",
      "\n",
      "📂 CURRENCIES klasörü işleniyor...\n",
      "[OK] USD-JPY.csv → currencies_cleaned klasörüne kaydedildi.\n",
      "[OK] EUR-USD.csv → currencies_cleaned klasörüne kaydedildi.\n"
     ]
    }
   ],
   "source": [
    "import pandas as pd\n",
    "import os\n",
    "\n",
    "# Kategoriler: klasör isimleri\n",
    "categories = [\"stocks\", \"indices\", \"commodities\", \"currencies\"]\n",
    "\n",
    "# Beklenen sütun yapısı\n",
    "expected_cols = [\"Close\", \"High\", \"Low\", \"Open\", \"Volume\"]\n",
    "\n",
    "for category in categories:\n",
    "    input_folder = f\"data/{category}\"\n",
    "    output_folder = f\"data/{category}_cleaned\"\n",
    "    os.makedirs(output_folder, exist_ok=True)\n",
    "\n",
    "    print(f\"\\n📂 {category.upper()} klasörü işleniyor...\")\n",
    "\n",
    "    for filename in os.listdir(input_folder):\n",
    "        if filename.endswith(\".csv\"):\n",
    "            file_path = os.path.join(input_folder, filename)\n",
    "\n",
    "            try:\n",
    "                # 1. İlk iki satırı atlayarak oku\n",
    "                df = pd.read_csv(file_path, skiprows=2)\n",
    "\n",
    "                # 2. Tarih sütunu kontrolü ve datetime dönüşümü\n",
    "                if \"Date\" not in df.columns:\n",
    "                    print(f\"[UYARI] {filename} içinde 'Date' sütunu yok, atlandı.\")\n",
    "                    continue\n",
    "\n",
    "                df[\"Date\"] = pd.to_datetime(df[\"Date\"], errors=\"coerce\")\n",
    "                df.dropna(subset=[\"Date\"], inplace=True)\n",
    "                df.set_index(\"Date\", inplace=True)\n",
    "\n",
    "                # 3. Beklenen sütun kontrolü\n",
    "                if len(df.columns) == len(expected_cols):\n",
    "                    df.columns = expected_cols\n",
    "                else:\n",
    "                    print(f\"[UYARI] {filename} beklenen sütun sayısına uymuyor, atlandı.\")\n",
    "                    continue\n",
    "\n",
    "                # 4. Kaydet\n",
    "                cleaned_file_path = os.path.join(output_folder, filename.replace(\".csv\", \"_cleaned.csv\"))\n",
    "                df.to_csv(cleaned_file_path)\n",
    "                print(f\"[OK] {filename} → {category}_cleaned klasörüne kaydedildi.\")\n",
    "\n",
    "            except Exception as e:\n",
    "                print(f\"[HATA] {filename} işlenemedi: {e}\")"
   ]
  },
  {
   "cell_type": "code",
   "execution_count": 123,
   "metadata": {},
   "outputs": [],
   "source": [
    "import os\n",
    "import pandas as pd\n",
    "\n",
    "def load_close_prices_from_folder(folder_path):\n",
    "    combined = pd.DataFrame()\n",
    "\n",
    "    for file in os.listdir(folder_path):\n",
    "        if file.endswith(\".csv\"):\n",
    "            symbol = file.replace(\"_cleaned.csv\", \"\").replace(\".csv\", \"\")\n",
    "            path = os.path.join(folder_path, file)\n",
    "\n",
    "            try:\n",
    "                df = pd.read_csv(path, parse_dates=[\"Date\"], index_col=\"Date\")\n",
    "                if \"Close\" in df.columns:\n",
    "                    df = df[[\"Close\"]].rename(columns={\"Close\": symbol})\n",
    "                    combined = df if combined.empty else combined.join(df, how=\"outer\")\n",
    "            except Exception as e:\n",
    "                print(f\"[HATA] {file} okunamadı: {e}\")\n",
    "\n",
    "    return combined.sort_index()"
   ]
  },
  {
   "cell_type": "code",
   "execution_count": 124,
   "metadata": {},
   "outputs": [],
   "source": [
    "stocks_df = load_close_prices_from_folder(\"data/stocks_cleaned\")\n",
    "indices_df = load_close_prices_from_folder(\"data/indices_cleaned\")\n",
    "commodities_df = load_close_prices_from_folder(\"data/commodities_cleaned\")\n",
    "currencies_df = load_close_prices_from_folder(\"data/currencies_cleaned\")"
   ]
  },
  {
   "cell_type": "code",
   "execution_count": 125,
   "metadata": {},
   "outputs": [
    {
     "data": {
      "text/html": [
       "<div>\n",
       "<style scoped>\n",
       "    .dataframe tbody tr th:only-of-type {\n",
       "        vertical-align: middle;\n",
       "    }\n",
       "\n",
       "    .dataframe tbody tr th {\n",
       "        vertical-align: top;\n",
       "    }\n",
       "\n",
       "    .dataframe thead th {\n",
       "        text-align: right;\n",
       "    }\n",
       "</style>\n",
       "<table border=\"1\" class=\"dataframe\">\n",
       "  <thead>\n",
       "    <tr style=\"text-align: right;\">\n",
       "      <th></th>\n",
       "      <th>Disney</th>\n",
       "      <th>Microsoft</th>\n",
       "      <th>Walmart</th>\n",
       "      <th>Google</th>\n",
       "      <th>Exxon Mobil</th>\n",
       "      <th>Apple</th>\n",
       "      <th>Intel</th>\n",
       "      <th>JP Morgan</th>\n",
       "      <th>Johnson &amp; Johnson</th>\n",
       "      <th>Coca-Cola</th>\n",
       "      <th>NASDAQ Composite</th>\n",
       "      <th>Dow Jones</th>\n",
       "      <th>S&amp;P 500</th>\n",
       "      <th>Fed Funds Rate</th>\n",
       "      <th>Oil</th>\n",
       "      <th>Gold</th>\n",
       "      <th>10Y Treasury</th>\n",
       "      <th>EUR-USD</th>\n",
       "      <th>USD-JPY</th>\n",
       "    </tr>\n",
       "    <tr>\n",
       "      <th>Date</th>\n",
       "      <th></th>\n",
       "      <th></th>\n",
       "      <th></th>\n",
       "      <th></th>\n",
       "      <th></th>\n",
       "      <th></th>\n",
       "      <th></th>\n",
       "      <th></th>\n",
       "      <th></th>\n",
       "      <th></th>\n",
       "      <th></th>\n",
       "      <th></th>\n",
       "      <th></th>\n",
       "      <th></th>\n",
       "      <th></th>\n",
       "      <th></th>\n",
       "      <th></th>\n",
       "      <th></th>\n",
       "      <th></th>\n",
       "    </tr>\n",
       "  </thead>\n",
       "  <tbody>\n",
       "    <tr>\n",
       "      <th>2000-01-03</th>\n",
       "      <td>22.833183</td>\n",
       "      <td>35.726707</td>\n",
       "      <td>14.272882</td>\n",
       "      <td>NaN</td>\n",
       "      <td>17.568422</td>\n",
       "      <td>0.841048</td>\n",
       "      <td>24.710649</td>\n",
       "      <td>23.237137</td>\n",
       "      <td>23.727488</td>\n",
       "      <td>13.913956</td>\n",
       "      <td>4131.149902</td>\n",
       "      <td>11357.509766</td>\n",
       "      <td>1455.219971</td>\n",
       "      <td>5.27</td>\n",
       "      <td>NaN</td>\n",
       "      <td>NaN</td>\n",
       "      <td>6.548</td>\n",
       "      <td>NaN</td>\n",
       "      <td>101.690002</td>\n",
       "    </tr>\n",
       "    <tr>\n",
       "      <th>2000-01-04</th>\n",
       "      <td>24.170692</td>\n",
       "      <td>34.519848</td>\n",
       "      <td>13.738815</td>\n",
       "      <td>NaN</td>\n",
       "      <td>17.231915</td>\n",
       "      <td>0.770139</td>\n",
       "      <td>23.556784</td>\n",
       "      <td>22.727282</td>\n",
       "      <td>22.858820</td>\n",
       "      <td>13.929386</td>\n",
       "      <td>3901.689941</td>\n",
       "      <td>10997.929688</td>\n",
       "      <td>1399.420044</td>\n",
       "      <td>5.27</td>\n",
       "      <td>NaN</td>\n",
       "      <td>NaN</td>\n",
       "      <td>6.485</td>\n",
       "      <td>NaN</td>\n",
       "      <td>103.139999</td>\n",
       "    </tr>\n",
       "    <tr>\n",
       "      <th>2000-01-05</th>\n",
       "      <td>25.173819</td>\n",
       "      <td>34.883846</td>\n",
       "      <td>13.458438</td>\n",
       "      <td>NaN</td>\n",
       "      <td>18.171329</td>\n",
       "      <td>0.781409</td>\n",
       "      <td>23.752058</td>\n",
       "      <td>22.586996</td>\n",
       "      <td>23.100109</td>\n",
       "      <td>14.052790</td>\n",
       "      <td>3877.540039</td>\n",
       "      <td>11122.650391</td>\n",
       "      <td>1402.109985</td>\n",
       "      <td>5.27</td>\n",
       "      <td>NaN</td>\n",
       "      <td>NaN</td>\n",
       "      <td>6.599</td>\n",
       "      <td>NaN</td>\n",
       "      <td>104.089996</td>\n",
       "    </tr>\n",
       "    <tr>\n",
       "      <th>2000-01-06</th>\n",
       "      <td>24.170692</td>\n",
       "      <td>33.715286</td>\n",
       "      <td>13.605300</td>\n",
       "      <td>NaN</td>\n",
       "      <td>19.110748</td>\n",
       "      <td>0.713787</td>\n",
       "      <td>22.367401</td>\n",
       "      <td>22.907658</td>\n",
       "      <td>23.824001</td>\n",
       "      <td>14.068213</td>\n",
       "      <td>3727.129883</td>\n",
       "      <td>11253.259766</td>\n",
       "      <td>1403.449951</td>\n",
       "      <td>5.24</td>\n",
       "      <td>NaN</td>\n",
       "      <td>NaN</td>\n",
       "      <td>6.549</td>\n",
       "      <td>NaN</td>\n",
       "      <td>105.230003</td>\n",
       "    </tr>\n",
       "    <tr>\n",
       "      <th>2000-01-07</th>\n",
       "      <td>23.788546</td>\n",
       "      <td>34.155880</td>\n",
       "      <td>14.633372</td>\n",
       "      <td>NaN</td>\n",
       "      <td>19.054665</td>\n",
       "      <td>0.747598</td>\n",
       "      <td>23.290504</td>\n",
       "      <td>23.328535</td>\n",
       "      <td>24.837450</td>\n",
       "      <td>14.993760</td>\n",
       "      <td>3882.620117</td>\n",
       "      <td>11522.559570</td>\n",
       "      <td>1441.469971</td>\n",
       "      <td>5.22</td>\n",
       "      <td>NaN</td>\n",
       "      <td>NaN</td>\n",
       "      <td>6.504</td>\n",
       "      <td>NaN</td>\n",
       "      <td>105.330002</td>\n",
       "    </tr>\n",
       "  </tbody>\n",
       "</table>\n",
       "</div>"
      ],
      "text/plain": [
       "               Disney  Microsoft    Walmart  Google  Exxon Mobil     Apple  \\\n",
       "Date                                                                         \n",
       "2000-01-03  22.833183  35.726707  14.272882     NaN    17.568422  0.841048   \n",
       "2000-01-04  24.170692  34.519848  13.738815     NaN    17.231915  0.770139   \n",
       "2000-01-05  25.173819  34.883846  13.458438     NaN    18.171329  0.781409   \n",
       "2000-01-06  24.170692  33.715286  13.605300     NaN    19.110748  0.713787   \n",
       "2000-01-07  23.788546  34.155880  14.633372     NaN    19.054665  0.747598   \n",
       "\n",
       "                Intel  JP Morgan  Johnson & Johnson  Coca-Cola  \\\n",
       "Date                                                             \n",
       "2000-01-03  24.710649  23.237137          23.727488  13.913956   \n",
       "2000-01-04  23.556784  22.727282          22.858820  13.929386   \n",
       "2000-01-05  23.752058  22.586996          23.100109  14.052790   \n",
       "2000-01-06  22.367401  22.907658          23.824001  14.068213   \n",
       "2000-01-07  23.290504  23.328535          24.837450  14.993760   \n",
       "\n",
       "            NASDAQ Composite     Dow Jones      S&P 500  Fed Funds Rate  Oil  \\\n",
       "Date                                                                           \n",
       "2000-01-03       4131.149902  11357.509766  1455.219971            5.27  NaN   \n",
       "2000-01-04       3901.689941  10997.929688  1399.420044            5.27  NaN   \n",
       "2000-01-05       3877.540039  11122.650391  1402.109985            5.27  NaN   \n",
       "2000-01-06       3727.129883  11253.259766  1403.449951            5.24  NaN   \n",
       "2000-01-07       3882.620117  11522.559570  1441.469971            5.22  NaN   \n",
       "\n",
       "            Gold  10Y Treasury  EUR-USD     USD-JPY  \n",
       "Date                                                 \n",
       "2000-01-03   NaN         6.548      NaN  101.690002  \n",
       "2000-01-04   NaN         6.485      NaN  103.139999  \n",
       "2000-01-05   NaN         6.599      NaN  104.089996  \n",
       "2000-01-06   NaN         6.549      NaN  105.230003  \n",
       "2000-01-07   NaN         6.504      NaN  105.330002  "
      ]
     },
     "execution_count": 125,
     "metadata": {},
     "output_type": "execute_result"
    }
   ],
   "source": [
    "# Ana tabloyu başlat (stocks)\n",
    "combined_all = stocks_df\n",
    "\n",
    "# Diğer kategorileri sırayla ekle\n",
    "for df in [indices_df, commodities_df, currencies_df]:\n",
    "    combined_all = combined_all.join(df, how=\"outer\")\n",
    "\n",
    "# Tarih sırasına göre sırala\n",
    "combined_all = combined_all.sort_index()\n",
    "\n",
    "# İlk satırları görüntüle\n",
    "combined_all.head()\n"
   ]
  },
  {
   "cell_type": "code",
   "execution_count": 126,
   "metadata": {},
   "outputs": [],
   "source": [
    "os.makedirs(\"data/combined\", exist_ok=True)\n",
    "combined_all.to_csv(\"data/combined/market_all_combined.csv\")"
   ]
  },
  {
   "cell_type": "code",
   "execution_count": 127,
   "metadata": {},
   "outputs": [
    {
     "name": "stdout",
     "output_type": "stream",
     "text": [
      "Disney: starts on 2000-01-03 00:00:00\n",
      "Microsoft: starts on 2000-01-03 00:00:00\n",
      "Walmart: starts on 2000-01-03 00:00:00\n",
      "Google: starts on 2004-08-19 00:00:00\n",
      "Exxon Mobil: starts on 2000-01-03 00:00:00\n",
      "Apple: starts on 2000-01-03 00:00:00\n",
      "Intel: starts on 2000-01-03 00:00:00\n",
      "JP Morgan: starts on 2000-01-03 00:00:00\n",
      "Johnson & Johnson: starts on 2000-01-03 00:00:00\n",
      "Coca-Cola: starts on 2000-01-03 00:00:00\n",
      "NASDAQ Composite: starts on 2000-01-03 00:00:00\n",
      "Dow Jones: starts on 2000-01-03 00:00:00\n",
      "S&P 500: starts on 2000-01-03 00:00:00\n",
      "Fed Funds Rate: starts on 2000-01-03 00:00:00\n",
      "Oil: starts on 2000-08-23 00:00:00\n",
      "Gold: starts on 2000-08-30 00:00:00\n",
      "10Y Treasury: starts on 2000-01-03 00:00:00\n",
      "EUR-USD: starts on 2003-12-01 00:00:00\n",
      "USD-JPY: starts on 2000-01-03 00:00:00\n"
     ]
    }
   ],
   "source": [
    "for col in combined_all.columns:\n",
    "    first_date = combined_all[col].first_valid_index()\n",
    "    print(f\"{col}: starts on {first_date}\")"
   ]
  },
  {
   "cell_type": "code",
   "execution_count": 128,
   "metadata": {},
   "outputs": [
    {
     "name": "stdout",
     "output_type": "stream",
     "text": [
      "Google ilk veri verdiği tarih: 2004-08-19 00:00:00\n"
     ]
    }
   ],
   "source": [
    "import pandas as pd\n",
    "\n",
    "# Tüm birleştirilmiş veri \n",
    "df = pd.read_csv(\"data/combined/market_all_combined.csv\", parse_dates=[\"Date\"], index_col=\"Date\")\n",
    "\n",
    "# Google’ın veri vermeye başladığı ilk tarih\n",
    "google_start = df[\"Google\"].first_valid_index()\n",
    "print(\"Google ilk veri verdiği tarih:\", google_start)"
   ]
  },
  {
   "cell_type": "code",
   "execution_count": 129,
   "metadata": {},
   "outputs": [],
   "source": [
    "stocks_df = stocks_df.loc[google_start:].copy()\n",
    "indices_df = indices_df.loc[google_start:].copy()\n",
    "commodities_df = commodities_df.loc[google_start:].copy()\n",
    "currencies_df = currencies_df.loc[google_start:].copy()"
   ]
  },
  {
   "cell_type": "code",
   "execution_count": 130,
   "metadata": {},
   "outputs": [],
   "source": [
    "combined_all = stocks_df\n",
    "for df in [indices_df, commodities_df, currencies_df]:\n",
    "    combined_all = combined_all.join(df, how=\"outer\")\n",
    "\n",
    "combined_all = combined_all.sort_index()\n",
    "combined_all.to_csv(\"data/combined/market_all_combined.csv\")"
   ]
  },
  {
   "cell_type": "code",
   "execution_count": 131,
   "metadata": {},
   "outputs": [
    {
     "name": "stdout",
     "output_type": "stream",
     "text": [
      "Disney               0\n",
      "NASDAQ Composite     0\n",
      "EUR-USD              0\n",
      "10Y Treasury         0\n",
      "Gold                 0\n",
      "Oil                  0\n",
      "Fed Funds Rate       0\n",
      "S&P 500              0\n",
      "Dow Jones            0\n",
      "Coca-Cola            0\n",
      "Microsoft            0\n",
      "Johnson & Johnson    0\n",
      "JP Morgan            0\n",
      "Intel                0\n",
      "Apple                0\n",
      "Exxon Mobil          0\n",
      "Google               0\n",
      "Walmart              0\n",
      "USD-JPY              0\n",
      "dtype: int64\n"
     ]
    }
   ],
   "source": [
    "# market_data_google_start_aligned.csv dosyasını oku\n",
    "df = pd.read_csv(\"data/combined/market_all_combined.csv\", parse_dates=[\"Date\"], index_col=\"Date\")\n",
    "\n",
    "# Linear interpolation ile eksik verileri doldur\n",
    "df_interp = df.interpolate(method=\"linear\", limit_direction=\"both\")\n",
    "\n",
    "# Sonuçları kaydet\n",
    "df_interp.to_csv(\"data/combined/market_data_interpolated.csv\")\n",
    "\n",
    "# Eksik veri kaldı mı?\n",
    "print(df_interp.isna().sum().sort_values(ascending=False))"
   ]
  }
 ],
 "metadata": {
  "kernelspec": {
   "display_name": "test",
   "language": "python",
   "name": "python3"
  },
  "language_info": {
   "codemirror_mode": {
    "name": "ipython",
    "version": 3
   },
   "file_extension": ".py",
   "mimetype": "text/x-python",
   "name": "python",
   "nbconvert_exporter": "python",
   "pygments_lexer": "ipython3",
   "version": "3.10.0"
  }
 },
 "nbformat": 4,
 "nbformat_minor": 2
}
