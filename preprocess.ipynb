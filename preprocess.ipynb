{
 "cells": [
  {
   "cell_type": "code",
   "execution_count": 10,
   "id": "882364e6",
   "metadata": {},
   "outputs": [],
   "source": [
    "import json\n",
    "import glob\n",
    "import pandas as pd\n",
    "import os\n",
    "import re"
   ]
  },
  {
   "cell_type": "code",
   "execution_count": 11,
   "id": "bc34cc6b",
   "metadata": {},
   "outputs": [],
   "source": [
    "def preprocess_text(text):\n",
    "    text = str(text).lower()\n",
    "    text = re.sub(r\"http\\S+\", \"\", text)   # URL sil\n",
    "    text = re.sub(r\"@\\w+\", \"\", text)      # Mention sil\n",
    "    text = re.sub(r\"#\\w+\", \"\", text)      # Hashtag sil\n",
    "    text = re.sub(r\"\\s+\", \" \", text).strip()   # Fazla boşluk\n",
    "    return text"
   ]
  },
  {
   "cell_type": "code",
   "execution_count": 12,
   "id": "f0a3c12e",
   "metadata": {},
   "outputs": [
    {
     "name": "stdout",
     "output_type": "stream",
     "text": [
      "Tüm haberler temizlenmiş şekilde tek bir CSV’ye kaydedildi.\n"
     ]
    }
   ],
   "source": [
    "import json\n",
    "import glob\n",
    "import pandas as pd\n",
    "\n",
    "# Tüm alanları tek satıra topla\n",
    "all_rows = []\n",
    "# Tüm yılları ve günleri bulmak için recursive glob kullan!\n",
    "for file_path in glob.glob(\"front_page_news_json_format/**/*.json\", recursive=True):\n",
    "    with open(file_path, \"r\", encoding=\"utf-8\") as f:\n",
    "        data = json.load(f)\n",
    "    # Eğer dosyada metadata varsa tarih al, yoksa filename'den çek\n",
    "    meta_date = data.get(\"metadata\", {}).get(\"date\", os.path.splitext(os.path.basename(file_path))[0])\n",
    "    for article in data[\"articles\"]:\n",
    "        headline_clean = preprocess_text(article.get(\"headline\", \"\"))\n",
    "        abstract_clean = preprocess_text(article.get(\"abstract\", \"\"))\n",
    "        lead_paragraph_clean = preprocess_text(article.get(\"lead_paragraph\", \"\"))\n",
    "        # Hepsini birleştir: fulltext\n",
    "        fulltext_clean = \" \".join([headline_clean, abstract_clean, lead_paragraph_clean]).strip()\n",
    "        row = {\n",
    "            \"date\": meta_date,\n",
    "            \"fulltext_clean\": fulltext_clean,\n",
    "            \"section_name\": article.get(\"section_name\", \"\"),\n",
    "        }\n",
    "        all_rows.append(row)\n",
    "\n",
    "df = pd.DataFrame(all_rows)\n",
    "df.to_csv(\"nyt_frontpage_all_clean.csv\", index=False)\n",
    "print(\"Tüm haberler temizlenmiş şekilde tek bir CSV’ye kaydedildi.\")"
   ]
  }
 ],
 "metadata": {
  "kernelspec": {
   "display_name": "Python 3",
   "language": "python",
   "name": "python3"
  },
  "language_info": {
   "codemirror_mode": {
    "name": "ipython",
    "version": 3
   },
   "file_extension": ".py",
   "mimetype": "text/x-python",
   "name": "python",
   "nbconvert_exporter": "python",
   "pygments_lexer": "ipython3",
   "version": "3.13.5"
  }
 },
 "nbformat": 4,
 "nbformat_minor": 5
}
